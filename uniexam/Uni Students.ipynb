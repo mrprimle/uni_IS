{
 "cells": [
  {
   "cell_type": "code",
   "execution_count": 1,
   "id": "79a01c4a",
   "metadata": {},
   "outputs": [],
   "source": [
    "import pandas as pd\n",
    "from sklearn.model_selection import train_test_split\n",
    "from sklearn.linear_model import LogisticRegression\n",
    "from sklearn.metrics import accuracy_score\n",
    "\n",
    "df = pd.read_csv('Expanded_data_with_more_features.csv')"
   ]
  },
  {
   "cell_type": "markdown",
   "id": "233d946e",
   "metadata": {},
   "source": [
    "1. Скільки студентів і студенток у наборі даних? (female    15424, male      15217)"
   ]
  },
  {
   "cell_type": "code",
   "execution_count": 3,
   "id": "b45efe11",
   "metadata": {},
   "outputs": [
    {
     "name": "stdout",
     "output_type": "stream",
     "text": [
      "Gender\n",
      "female    15424\n",
      "male      15217\n",
      "Name: count, dtype: int64\n"
     ]
    }
   ],
   "source": [
    "gender_counts = df['Gender'].value_counts()\n",
    "print(gender_counts)"
   ]
  },
  {
   "cell_type": "markdown",
   "id": "353bbefc",
   "metadata": {},
   "source": [
    "2. Який відсоток студентів чоловічої статі в наборі даних? (49.6622172905584)"
   ]
  },
  {
   "cell_type": "code",
   "execution_count": 5,
   "id": "3adeaa97",
   "metadata": {},
   "outputs": [
    {
     "name": "stdout",
     "output_type": "stream",
     "text": [
      "49.6622172905584\n"
     ]
    }
   ],
   "source": [
    "gender_counts = df['Gender'].value_counts(normalize=True)\n",
    "male_percentage = gender_counts['male'] * 100\n",
    "print(male_percentage)"
   ]
  },
  {
   "cell_type": "markdown",
   "id": "d60ca2d2",
   "metadata": {},
   "source": [
    "3. Який відсоток студенток у наборі даних? (50.337782709441605)"
   ]
  },
  {
   "cell_type": "code",
   "execution_count": 6,
   "id": "018c2ddf",
   "metadata": {},
   "outputs": [
    {
     "name": "stdout",
     "output_type": "stream",
     "text": [
      "50.337782709441605\n"
     ]
    }
   ],
   "source": [
    "female_percentage = gender_counts['female'] * 100\n",
    "print(female_percentage)"
   ]
  },
  {
   "cell_type": "markdown",
   "id": "97551e21",
   "metadata": {},
   "source": [
    "4. Яка етнічна група має найвищий середній бал з математики? (group E)"
   ]
  },
  {
   "cell_type": "code",
   "execution_count": 10,
   "id": "e0fe6324",
   "metadata": {},
   "outputs": [
    {
     "name": "stdout",
     "output_type": "stream",
     "text": [
      "group E\n"
     ]
    }
   ],
   "source": [
    "ethnic_group_math_avg = df.groupby('EthnicGroup')['MathScore'].mean()\n",
    "highest_avg_ethnic_group = ethnic_group_math_avg.idxmax()\n",
    "print(highest_avg_ethnic_group)"
   ]
  },
  {
   "cell_type": "markdown",
   "id": "248dcf94",
   "metadata": {},
   "source": [
    "5. Яка етнічна група має найвищий середній бал читання? (group E)"
   ]
  },
  {
   "cell_type": "code",
   "execution_count": 11,
   "id": "601ae59d",
   "metadata": {},
   "outputs": [
    {
     "name": "stdout",
     "output_type": "stream",
     "text": [
      "group E\n"
     ]
    }
   ],
   "source": [
    "ethnic_group_reading_avg = df.groupby('EthnicGroup')['ReadingScore'].mean()\n",
    "highest_avg_reading_ethnic_group = ethnic_group_reading_avg.idxmax()\n",
    "print(highest_avg_reading_ethnic_group)"
   ]
  },
  {
   "cell_type": "markdown",
   "id": "154551d5",
   "metadata": {},
   "source": [
    " 6. Яка етнічна група має найвищий середній бал з письма (group E)"
   ]
  },
  {
   "cell_type": "code",
   "execution_count": 12,
   "id": "d189842f",
   "metadata": {},
   "outputs": [
    {
     "name": "stdout",
     "output_type": "stream",
     "text": [
      "group E\n"
     ]
    }
   ],
   "source": [
    "ethnic_group_writing_avg = df.groupby('EthnicGroup')['WritingScore'].mean()\n",
    "highest_avg_writing_ethnic_group = ethnic_group_writing_avg.idxmax()\n",
    "print(highest_avg_writing_ethnic_group)"
   ]
  },
  {
   "cell_type": "markdown",
   "id": "fd223b68",
   "metadata": {},
   "source": [
    "7. Який середній бал з математики для студентів, які закінчили курс підготовки до тесту? (69.5466599698644)"
   ]
  },
  {
   "cell_type": "code",
   "execution_count": 14,
   "id": "3be9df66",
   "metadata": {},
   "outputs": [
    {
     "name": "stdout",
     "output_type": "stream",
     "text": [
      "69.5466599698644\n"
     ]
    }
   ],
   "source": [
    "prep_course_math_avg = df[df['TestPrep'] == 'completed']['MathScore'].mean()\n",
    "print(prep_course_math_avg)"
   ]
  },
  {
   "cell_type": "markdown",
   "id": "a92f0b83",
   "metadata": {},
   "source": [
    "8. Який середній бал з читання для студентів, які пройшли курс підготовки до тесту? (73.73299849321948)"
   ]
  },
  {
   "cell_type": "code",
   "execution_count": 15,
   "id": "03367db2",
   "metadata": {},
   "outputs": [
    {
     "name": "stdout",
     "output_type": "stream",
     "text": [
      "73.73299849321948\n"
     ]
    }
   ],
   "source": [
    "prep_course_reading_avg = df[df['TestPrep'] == 'completed']['ReadingScore'].mean()\n",
    "print(prep_course_reading_avg)"
   ]
  },
  {
   "cell_type": "markdown",
   "id": "9baf8933",
   "metadata": {},
   "source": [
    "9. Який середній бал для студентів, які закінчили курс підготовки до тесту? (72.66097438473129)"
   ]
  },
  {
   "cell_type": "code",
   "execution_count": 16,
   "id": "96dac210",
   "metadata": {},
   "outputs": [
    {
     "name": "stdout",
     "output_type": "stream",
     "text": [
      "72.66097438473129\n"
     ]
    }
   ],
   "source": [
    "prep_course_overall_avg = df[df['TestPrep'] == 'completed'][['MathScore', 'WritingScore', 'ReadingScore']].mean(axis=1).mean()\n",
    "print(prep_course_overall_avg)"
   ]
  },
  {
   "cell_type": "markdown",
   "id": "f2859ef2",
   "metadata": {},
   "source": [
    "10. Скільки студентів мають одружених батьків? (16844)"
   ]
  },
  {
   "cell_type": "code",
   "execution_count": 17,
   "id": "90b265c6",
   "metadata": {},
   "outputs": [
    {
     "name": "stdout",
     "output_type": "stream",
     "text": [
      "16844\n"
     ]
    }
   ],
   "source": [
    "married_parents_count = df[df['ParentMaritalStatus'] == 'married'].shape[0]\n",
    "print(married_parents_count)"
   ]
  },
  {
   "cell_type": "markdown",
   "id": "48bf3b46",
   "metadata": {},
   "source": [
    "11. Скільки студентів мають батьків-одинаків? (7097)"
   ]
  },
  {
   "cell_type": "code",
   "execution_count": 18,
   "id": "6612c6b6",
   "metadata": {},
   "outputs": [
    {
     "name": "stdout",
     "output_type": "stream",
     "text": [
      "7097\n"
     ]
    }
   ],
   "source": [
    "single_parents_count = df[df['ParentMaritalStatus'] == 'single'].shape[0]\n",
    "print(single_parents_count)"
   ]
  },
  {
   "cell_type": "markdown",
   "id": "184e386a",
   "metadata": {},
   "source": [
    "12. Чи студенти, які регулярно займаються спортом, мають вищі середні результати з математики, ніж ті, хто ніколи не       займається спортом? (Так: 67.8 > 64.2)"
   ]
  },
  {
   "cell_type": "code",
   "execution_count": 19,
   "id": "73e56392",
   "metadata": {},
   "outputs": [
    {
     "name": "stdout",
     "output_type": "stream",
     "text": [
      "Average math score for students who regularly participate in sports: 67.83915500787548\n",
      "Average math score for students who never participate in sports: 64.17107892107892\n"
     ]
    }
   ],
   "source": [
    "regular_sports_math_avg = df[df['PracticeSport'] == 'regularly']['MathScore'].mean()\n",
    "non_sports_math_avg = df[df['PracticeSport'] == 'never']['MathScore'].mean()\n",
    "\n",
    "print(\"Average math score for students who regularly participate in sports:\", regular_sports_math_avg)\n",
    "print(\"Average math score for students who never participate in sports:\", non_sports_math_avg)"
   ]
  },
  {
   "cell_type": "markdown",
   "id": "09b4e9d6",
   "metadata": {},
   "source": [
    "13. Чи студенти, які регулярно займаються спортом, мають вищі середні результати читання, ніж ті, хто ніколи не займається спортом? (Так: 69.9 > 68.3)"
   ]
  },
  {
   "cell_type": "code",
   "execution_count": 20,
   "id": "75b73c04",
   "metadata": {},
   "outputs": [
    {
     "name": "stdout",
     "output_type": "stream",
     "text": [
      "Average reading score for students who regularly participate in sports: 69.94301862318169\n",
      "Average reading score for students who never participate in sports: 68.33766233766234\n"
     ]
    }
   ],
   "source": [
    "regular_sports_reading_avg = df[df['PracticeSport'] == 'regularly']['ReadingScore'].mean()\n",
    "non_sports_reading_avg = df[df['PracticeSport'] == 'never']['ReadingScore'].mean()\n",
    "\n",
    "print(\"Average reading score for students who regularly participate in sports:\", regular_sports_reading_avg)\n",
    "print(\"Average reading score for students who never participate in sports:\", non_sports_reading_avg)"
   ]
  },
  {
   "cell_type": "markdown",
   "id": "50162723",
   "metadata": {},
   "source": [
    "Задача класифікації (Accuracy 78%)"
   ]
  },
  {
   "cell_type": "code",
   "execution_count": 5,
   "id": "d3219686",
   "metadata": {},
   "outputs": [
    {
     "ename": "ValueError",
     "evalue": "Input contains NaN",
     "output_type": "error",
     "traceback": [
      "\u001b[1;31m---------------------------------------------------------------------------\u001b[0m",
      "\u001b[1;31mValueError\u001b[0m                                Traceback (most recent call last)",
      "Cell \u001b[1;32mIn[5], line 16\u001b[0m\n\u001b[0;32m     13\u001b[0m model \u001b[38;5;241m=\u001b[39m LogisticRegression()\n\u001b[0;32m     15\u001b[0m \u001b[38;5;66;03m# Fit the model on the training data\u001b[39;00m\n\u001b[1;32m---> 16\u001b[0m model\u001b[38;5;241m.\u001b[39mfit(X_train, y_train)\n\u001b[0;32m     18\u001b[0m \u001b[38;5;66;03m# Predict test data\u001b[39;00m\n\u001b[0;32m     19\u001b[0m y_pred \u001b[38;5;241m=\u001b[39m model\u001b[38;5;241m.\u001b[39mpredict(X_test)\n",
      "File \u001b[1;32m~\\anaconda3\\Lib\\site-packages\\sklearn\\base.py:1151\u001b[0m, in \u001b[0;36m_fit_context.<locals>.decorator.<locals>.wrapper\u001b[1;34m(estimator, *args, **kwargs)\u001b[0m\n\u001b[0;32m   1144\u001b[0m     estimator\u001b[38;5;241m.\u001b[39m_validate_params()\n\u001b[0;32m   1146\u001b[0m \u001b[38;5;28;01mwith\u001b[39;00m config_context(\n\u001b[0;32m   1147\u001b[0m     skip_parameter_validation\u001b[38;5;241m=\u001b[39m(\n\u001b[0;32m   1148\u001b[0m         prefer_skip_nested_validation \u001b[38;5;129;01mor\u001b[39;00m global_skip_validation\n\u001b[0;32m   1149\u001b[0m     )\n\u001b[0;32m   1150\u001b[0m ):\n\u001b[1;32m-> 1151\u001b[0m     \u001b[38;5;28;01mreturn\u001b[39;00m fit_method(estimator, \u001b[38;5;241m*\u001b[39margs, \u001b[38;5;241m*\u001b[39m\u001b[38;5;241m*\u001b[39mkwargs)\n",
      "File \u001b[1;32m~\\anaconda3\\Lib\\site-packages\\sklearn\\linear_model\\_logistic.py:1207\u001b[0m, in \u001b[0;36mLogisticRegression.fit\u001b[1;34m(self, X, y, sample_weight)\u001b[0m\n\u001b[0;32m   1204\u001b[0m \u001b[38;5;28;01melse\u001b[39;00m:\n\u001b[0;32m   1205\u001b[0m     _dtype \u001b[38;5;241m=\u001b[39m [np\u001b[38;5;241m.\u001b[39mfloat64, np\u001b[38;5;241m.\u001b[39mfloat32]\n\u001b[1;32m-> 1207\u001b[0m X, y \u001b[38;5;241m=\u001b[39m \u001b[38;5;28mself\u001b[39m\u001b[38;5;241m.\u001b[39m_validate_data(\n\u001b[0;32m   1208\u001b[0m     X,\n\u001b[0;32m   1209\u001b[0m     y,\n\u001b[0;32m   1210\u001b[0m     accept_sparse\u001b[38;5;241m=\u001b[39m\u001b[38;5;124m\"\u001b[39m\u001b[38;5;124mcsr\u001b[39m\u001b[38;5;124m\"\u001b[39m,\n\u001b[0;32m   1211\u001b[0m     dtype\u001b[38;5;241m=\u001b[39m_dtype,\n\u001b[0;32m   1212\u001b[0m     order\u001b[38;5;241m=\u001b[39m\u001b[38;5;124m\"\u001b[39m\u001b[38;5;124mC\u001b[39m\u001b[38;5;124m\"\u001b[39m,\n\u001b[0;32m   1213\u001b[0m     accept_large_sparse\u001b[38;5;241m=\u001b[39msolver \u001b[38;5;129;01mnot\u001b[39;00m \u001b[38;5;129;01min\u001b[39;00m [\u001b[38;5;124m\"\u001b[39m\u001b[38;5;124mliblinear\u001b[39m\u001b[38;5;124m\"\u001b[39m, \u001b[38;5;124m\"\u001b[39m\u001b[38;5;124msag\u001b[39m\u001b[38;5;124m\"\u001b[39m, \u001b[38;5;124m\"\u001b[39m\u001b[38;5;124msaga\u001b[39m\u001b[38;5;124m\"\u001b[39m],\n\u001b[0;32m   1214\u001b[0m )\n\u001b[0;32m   1215\u001b[0m check_classification_targets(y)\n\u001b[0;32m   1216\u001b[0m \u001b[38;5;28mself\u001b[39m\u001b[38;5;241m.\u001b[39mclasses_ \u001b[38;5;241m=\u001b[39m np\u001b[38;5;241m.\u001b[39munique(y)\n",
      "File \u001b[1;32m~\\anaconda3\\Lib\\site-packages\\sklearn\\base.py:621\u001b[0m, in \u001b[0;36mBaseEstimator._validate_data\u001b[1;34m(self, X, y, reset, validate_separately, cast_to_ndarray, **check_params)\u001b[0m\n\u001b[0;32m    619\u001b[0m         y \u001b[38;5;241m=\u001b[39m check_array(y, input_name\u001b[38;5;241m=\u001b[39m\u001b[38;5;124m\"\u001b[39m\u001b[38;5;124my\u001b[39m\u001b[38;5;124m\"\u001b[39m, \u001b[38;5;241m*\u001b[39m\u001b[38;5;241m*\u001b[39mcheck_y_params)\n\u001b[0;32m    620\u001b[0m     \u001b[38;5;28;01melse\u001b[39;00m:\n\u001b[1;32m--> 621\u001b[0m         X, y \u001b[38;5;241m=\u001b[39m check_X_y(X, y, \u001b[38;5;241m*\u001b[39m\u001b[38;5;241m*\u001b[39mcheck_params)\n\u001b[0;32m    622\u001b[0m     out \u001b[38;5;241m=\u001b[39m X, y\n\u001b[0;32m    624\u001b[0m \u001b[38;5;28;01mif\u001b[39;00m \u001b[38;5;129;01mnot\u001b[39;00m no_val_X \u001b[38;5;129;01mand\u001b[39;00m check_params\u001b[38;5;241m.\u001b[39mget(\u001b[38;5;124m\"\u001b[39m\u001b[38;5;124mensure_2d\u001b[39m\u001b[38;5;124m\"\u001b[39m, \u001b[38;5;28;01mTrue\u001b[39;00m):\n",
      "File \u001b[1;32m~\\anaconda3\\Lib\\site-packages\\sklearn\\utils\\validation.py:1163\u001b[0m, in \u001b[0;36mcheck_X_y\u001b[1;34m(X, y, accept_sparse, accept_large_sparse, dtype, order, copy, force_all_finite, ensure_2d, allow_nd, multi_output, ensure_min_samples, ensure_min_features, y_numeric, estimator)\u001b[0m\n\u001b[0;32m   1143\u001b[0m     \u001b[38;5;28;01mraise\u001b[39;00m \u001b[38;5;167;01mValueError\u001b[39;00m(\n\u001b[0;32m   1144\u001b[0m         \u001b[38;5;124mf\u001b[39m\u001b[38;5;124m\"\u001b[39m\u001b[38;5;132;01m{\u001b[39;00mestimator_name\u001b[38;5;132;01m}\u001b[39;00m\u001b[38;5;124m requires y to be passed, but the target y is None\u001b[39m\u001b[38;5;124m\"\u001b[39m\n\u001b[0;32m   1145\u001b[0m     )\n\u001b[0;32m   1147\u001b[0m X \u001b[38;5;241m=\u001b[39m check_array(\n\u001b[0;32m   1148\u001b[0m     X,\n\u001b[0;32m   1149\u001b[0m     accept_sparse\u001b[38;5;241m=\u001b[39maccept_sparse,\n\u001b[1;32m   (...)\u001b[0m\n\u001b[0;32m   1160\u001b[0m     input_name\u001b[38;5;241m=\u001b[39m\u001b[38;5;124m\"\u001b[39m\u001b[38;5;124mX\u001b[39m\u001b[38;5;124m\"\u001b[39m,\n\u001b[0;32m   1161\u001b[0m )\n\u001b[1;32m-> 1163\u001b[0m y \u001b[38;5;241m=\u001b[39m _check_y(y, multi_output\u001b[38;5;241m=\u001b[39mmulti_output, y_numeric\u001b[38;5;241m=\u001b[39my_numeric, estimator\u001b[38;5;241m=\u001b[39mestimator)\n\u001b[0;32m   1165\u001b[0m check_consistent_length(X, y)\n\u001b[0;32m   1167\u001b[0m \u001b[38;5;28;01mreturn\u001b[39;00m X, y\n",
      "File \u001b[1;32m~\\anaconda3\\Lib\\site-packages\\sklearn\\utils\\validation.py:1185\u001b[0m, in \u001b[0;36m_check_y\u001b[1;34m(y, multi_output, y_numeric, estimator)\u001b[0m\n\u001b[0;32m   1183\u001b[0m     estimator_name \u001b[38;5;241m=\u001b[39m _check_estimator_name(estimator)\n\u001b[0;32m   1184\u001b[0m     y \u001b[38;5;241m=\u001b[39m column_or_1d(y, warn\u001b[38;5;241m=\u001b[39m\u001b[38;5;28;01mTrue\u001b[39;00m)\n\u001b[1;32m-> 1185\u001b[0m     _assert_all_finite(y, input_name\u001b[38;5;241m=\u001b[39m\u001b[38;5;124m\"\u001b[39m\u001b[38;5;124my\u001b[39m\u001b[38;5;124m\"\u001b[39m, estimator_name\u001b[38;5;241m=\u001b[39mestimator_name)\n\u001b[0;32m   1186\u001b[0m     _ensure_no_complex_data(y)\n\u001b[0;32m   1187\u001b[0m \u001b[38;5;28;01mif\u001b[39;00m y_numeric \u001b[38;5;129;01mand\u001b[39;00m y\u001b[38;5;241m.\u001b[39mdtype\u001b[38;5;241m.\u001b[39mkind \u001b[38;5;241m==\u001b[39m \u001b[38;5;124m\"\u001b[39m\u001b[38;5;124mO\u001b[39m\u001b[38;5;124m\"\u001b[39m:\n",
      "File \u001b[1;32m~\\anaconda3\\Lib\\site-packages\\sklearn\\utils\\validation.py:109\u001b[0m, in \u001b[0;36m_assert_all_finite\u001b[1;34m(X, allow_nan, msg_dtype, estimator_name, input_name)\u001b[0m\n\u001b[0;32m    107\u001b[0m \u001b[38;5;28;01mif\u001b[39;00m X\u001b[38;5;241m.\u001b[39mdtype \u001b[38;5;241m==\u001b[39m np\u001b[38;5;241m.\u001b[39mdtype(\u001b[38;5;124m\"\u001b[39m\u001b[38;5;124mobject\u001b[39m\u001b[38;5;124m\"\u001b[39m) \u001b[38;5;129;01mand\u001b[39;00m \u001b[38;5;129;01mnot\u001b[39;00m allow_nan:\n\u001b[0;32m    108\u001b[0m     \u001b[38;5;28;01mif\u001b[39;00m _object_dtype_isnan(X)\u001b[38;5;241m.\u001b[39many():\n\u001b[1;32m--> 109\u001b[0m         \u001b[38;5;28;01mraise\u001b[39;00m \u001b[38;5;167;01mValueError\u001b[39;00m(\u001b[38;5;124m\"\u001b[39m\u001b[38;5;124mInput contains NaN\u001b[39m\u001b[38;5;124m\"\u001b[39m)\n\u001b[0;32m    111\u001b[0m \u001b[38;5;66;03m# We need only consider float arrays, hence can early return for all else.\u001b[39;00m\n\u001b[0;32m    112\u001b[0m \u001b[38;5;28;01mif\u001b[39;00m \u001b[38;5;129;01mnot\u001b[39;00m xp\u001b[38;5;241m.\u001b[39misdtype(X\u001b[38;5;241m.\u001b[39mdtype, (\u001b[38;5;124m\"\u001b[39m\u001b[38;5;124mreal floating\u001b[39m\u001b[38;5;124m\"\u001b[39m, \u001b[38;5;124m\"\u001b[39m\u001b[38;5;124mcomplex floating\u001b[39m\u001b[38;5;124m\"\u001b[39m)):\n",
      "\u001b[1;31mValueError\u001b[0m: Input contains NaN"
     ]
    }
   ],
   "source": [
    "X = df[['Gender', 'EthnicGroup', 'ParentEduc', 'LunchType', 'ParentMaritalStatus', 'PracticeSport', 'IsFirstChild', 'NrSiblings', 'TransportMeans', 'WklyStudyHours', 'MathScore', 'ReadingScore', 'WritingScore']]\n",
    "y = df['TestPrep']\n",
    "\n",
    "# Convert categorical variables into dummy/indicator variables\n",
    "X = pd.get_dummies(X)\n",
    "X.fillna(X.mean(), inplace=True)\n",
    "X.dropna(inplace=True)\n",
    "\n",
    "# Split the data into training and testing sets\n",
    "X_train, X_test, y_train, y_test = train_test_split(X, y, test_size=0.2, random_state=42)\n",
    "\n",
    "# Initialize logistic regression model\n",
    "model = LogisticRegression()\n",
    "\n",
    "# Fit the model on the training data\n",
    "model.fit(X_train, y_train)\n",
    "\n",
    "# Predict test data\n",
    "y_pred = model.predict(X_test)\n",
    "\n",
    "# Calculate accuracy\n",
    "accuracy = accuracy_score(y_test, y_pred)\n",
    "print(\"Accuracy:\", accuracy)"
   ]
  }
 ],
 "metadata": {
  "kernelspec": {
   "display_name": "Python 3 (ipykernel)",
   "language": "python",
   "name": "python3"
  },
  "language_info": {
   "codemirror_mode": {
    "name": "ipython",
    "version": 3
   },
   "file_extension": ".py",
   "mimetype": "text/x-python",
   "name": "python",
   "nbconvert_exporter": "python",
   "pygments_lexer": "ipython3",
   "version": "3.11.5"
  }
 },
 "nbformat": 4,
 "nbformat_minor": 5
}
