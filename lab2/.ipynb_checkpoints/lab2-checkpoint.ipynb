{
 "cells": [
  {
   "cell_type": "markdown",
   "id": "90af6ce6-c1f5-4341-a27a-8e5f6451ab3f",
   "metadata": {},
   "source": [
    "<h1 style=\"text-align: center;\">Lab 2</h1>"
   ]
  },
  {
   "cell_type": "markdown",
   "id": "06d4897f-ec96-4c9d-bd14-bac6178bf522",
   "metadata": {},
   "source": [
    "Install numpy for Jupyter Notebook environment"
   ]
  },
  {
   "cell_type": "code",
   "execution_count": 2,
   "id": "0c1ec2fb-c4f1-43d1-b658-aad50297cd30",
   "metadata": {
    "scrolled": true
   },
   "outputs": [
    {
     "name": "stdout",
     "output_type": "stream",
     "text": [
      "Collecting numpy\n",
      "  Downloading numpy-1.26.3-cp311-cp311-win_amd64.whl.metadata (61 kB)\n",
      "     ---------------------------------------- 0.0/61.2 kB ? eta -:--:--\n",
      "     ------ --------------------------------- 10.2/61.2 kB ? eta -:--:--\n",
      "     ------------ ------------------------- 20.5/61.2 kB 131.3 kB/s eta 0:00:01\n",
      "     ------------------- ------------------ 30.7/61.2 kB 163.8 kB/s eta 0:00:01\n",
      "     ------------------------- ------------ 41.0/61.2 kB 178.6 kB/s eta 0:00:01\n",
      "     ------------------------------- ------ 51.2/61.2 kB 217.9 kB/s eta 0:00:01\n",
      "     -------------------------------------- 61.2/61.2 kB 191.6 kB/s eta 0:00:00\n",
      "Downloading numpy-1.26.3-cp311-cp311-win_amd64.whl (15.8 MB)\n",
      "   ---------------------------------------- 0.0/15.8 MB ? eta -:--:--\n",
      "   ---------------------------------------- 0.0/15.8 MB 991.0 kB/s eta 0:00:16\n",
      "    --------------------------------------- 0.2/15.8 MB 2.5 MB/s eta 0:00:07\n",
      "    --------------------------------------- 0.4/15.8 MB 3.5 MB/s eta 0:00:05\n",
      "   - -------------------------------------- 0.5/15.8 MB 3.0 MB/s eta 0:00:06\n",
      "   -- ------------------------------------- 1.1/15.8 MB 5.0 MB/s eta 0:00:03\n",
      "   --- ------------------------------------ 1.3/15.8 MB 4.8 MB/s eta 0:00:04\n",
      "   ---- ----------------------------------- 1.8/15.8 MB 5.8 MB/s eta 0:00:03\n",
      "   ----- ---------------------------------- 2.0/15.8 MB 5.3 MB/s eta 0:00:03\n",
      "   ------ --------------------------------- 2.5/15.8 MB 6.1 MB/s eta 0:00:03\n",
      "   ------- -------------------------------- 2.8/15.8 MB 6.0 MB/s eta 0:00:03\n",
      "   -------- ------------------------------- 3.2/15.8 MB 6.3 MB/s eta 0:00:02\n",
      "   -------- ------------------------------- 3.5/15.8 MB 6.3 MB/s eta 0:00:02\n",
      "   --------- ------------------------------ 3.8/15.8 MB 6.4 MB/s eta 0:00:02\n",
      "   ---------- ----------------------------- 4.2/15.8 MB 6.4 MB/s eta 0:00:02\n",
      "   ----------- ---------------------------- 4.6/15.8 MB 6.5 MB/s eta 0:00:02\n",
      "   ------------ --------------------------- 4.9/15.8 MB 6.7 MB/s eta 0:00:02\n",
      "   ------------- -------------------------- 5.3/15.8 MB 6.6 MB/s eta 0:00:02\n",
      "   -------------- ------------------------- 5.6/15.8 MB 6.7 MB/s eta 0:00:02\n",
      "   --------------- ------------------------ 6.0/15.8 MB 6.7 MB/s eta 0:00:02\n",
      "   --------------- ------------------------ 6.3/15.8 MB 6.7 MB/s eta 0:00:02\n",
      "   ---------------- ----------------------- 6.4/15.8 MB 6.7 MB/s eta 0:00:02\n",
      "   ----------------- ---------------------- 7.0/15.8 MB 6.7 MB/s eta 0:00:02\n",
      "   ------------------ --------------------- 7.2/15.8 MB 6.7 MB/s eta 0:00:02\n",
      "   ------------------- -------------------- 7.5/15.8 MB 6.7 MB/s eta 0:00:02\n",
      "   ------------------- -------------------- 7.8/15.8 MB 6.6 MB/s eta 0:00:02\n",
      "   -------------------- ------------------- 8.1/15.8 MB 6.6 MB/s eta 0:00:02\n",
      "   --------------------- ------------------ 8.3/15.8 MB 6.6 MB/s eta 0:00:02\n",
      "   --------------------- ------------------ 8.6/15.8 MB 6.6 MB/s eta 0:00:02\n",
      "   ---------------------- ----------------- 9.0/15.8 MB 6.5 MB/s eta 0:00:02\n",
      "   ----------------------- ---------------- 9.3/15.8 MB 6.6 MB/s eta 0:00:01\n",
      "   ------------------------ --------------- 9.6/15.8 MB 6.5 MB/s eta 0:00:01\n",
      "   ------------------------ --------------- 9.9/15.8 MB 6.5 MB/s eta 0:00:01\n",
      "   ------------------------- -------------- 10.2/15.8 MB 6.5 MB/s eta 0:00:01\n",
      "   -------------------------- ------------- 10.5/15.8 MB 6.8 MB/s eta 0:00:01\n",
      "   --------------------------- ------------ 10.7/15.8 MB 6.8 MB/s eta 0:00:01\n",
      "   ---------------------------- ----------- 11.2/15.8 MB 6.7 MB/s eta 0:00:01\n",
      "   ----------------------------- ---------- 11.5/15.8 MB 6.8 MB/s eta 0:00:01\n",
      "   ----------------------------- ---------- 11.8/15.8 MB 6.8 MB/s eta 0:00:01\n",
      "   ------------------------------ --------- 12.1/15.8 MB 6.9 MB/s eta 0:00:01\n",
      "   ------------------------------- -------- 12.4/15.8 MB 6.7 MB/s eta 0:00:01\n",
      "   -------------------------------- ------- 12.7/15.8 MB 6.7 MB/s eta 0:00:01\n",
      "   --------------------------------- ------ 13.0/15.8 MB 6.6 MB/s eta 0:00:01\n",
      "   --------------------------------- ------ 13.4/15.8 MB 6.6 MB/s eta 0:00:01\n",
      "   ---------------------------------- ----- 13.7/15.8 MB 6.6 MB/s eta 0:00:01\n",
      "   ----------------------------------- ---- 13.9/15.8 MB 6.5 MB/s eta 0:00:01\n",
      "   ----------------------------------- ---- 14.2/15.8 MB 6.5 MB/s eta 0:00:01\n",
      "   ------------------------------------ --- 14.6/15.8 MB 6.5 MB/s eta 0:00:01\n",
      "   ------------------------------------- -- 14.9/15.8 MB 6.5 MB/s eta 0:00:01\n",
      "   -------------------------------------- - 15.2/15.8 MB 6.4 MB/s eta 0:00:01\n",
      "   ---------------------------------------  15.5/15.8 MB 6.5 MB/s eta 0:00:01\n",
      "   ---------------------------------------  15.8/15.8 MB 6.5 MB/s eta 0:00:01\n",
      "   ---------------------------------------  15.8/15.8 MB 6.5 MB/s eta 0:00:01\n",
      "   ---------------------------------------- 15.8/15.8 MB 6.2 MB/s eta 0:00:00\n",
      "Installing collected packages: numpy\n",
      "Successfully installed numpy-1.26.3\n"
     ]
    }
   ],
   "source": [
    "!pip install numpy"
   ]
  },
  {
   "cell_type": "markdown",
   "id": "6685abef-1d74-464a-9a44-8c3db95f47d3",
   "metadata": {},
   "source": [
    "Імпортовуємо бібліотеку NumPy"
   ]
  },
  {
   "cell_type": "code",
   "execution_count": 2,
   "id": "6bc3245c-5cf6-4d85-9bf0-99fd5d14f674",
   "metadata": {},
   "outputs": [],
   "source": [
    "import numpy as np"
   ]
  },
  {
   "cell_type": "code",
   "execution_count": 2,
   "id": "222e3d8f-9dd3-4b83-a591-88bfa23854ae",
   "metadata": {},
   "outputs": [],
   "source": [
    "# checks if given string str represents positive integer\n",
    "def is_positive_integer(str):\n",
    "    return str.isdecimal() and int(str) > 0"
   ]
  },
  {
   "cell_type": "markdown",
   "id": "5c7e517c-a616-43ff-bcfe-903235ed95a6",
   "metadata": {},
   "source": [
    "### Завдання 1\n",
    "\n",
    "Виконати набір вправ. Всі завдання виконати 2 способами:\n",
    "- з використанням універсальних функцій бібліотеки NumPy\n",
    "- за допомогою ітеративних конструкцій (з використанням циклів, спискових включень тощо).\n",
    "- для обох випадків підрахувати час виконання скрипту та зробити висновки.овки."
   ]
  },
  {
   "cell_type": "markdown",
   "id": "8a9d3ce8-ba29-4209-9345-05c8d1aeccfb",
   "metadata": {},
   "source": [
    "#### Вправа 2\n",
    "Вводиться число n. Розставити 1 та 0 у шаховому \n",
    "порядку, починаючи з 1 в матриці розміром n×n, використовуюч \n",
    "слайсінг."
   ]
  },
  {
   "cell_type": "code",
   "execution_count": 33,
   "id": "36da95a0-9bde-43e8-8eb6-89d3a24f798b",
   "metadata": {},
   "outputs": [],
   "source": [
    "import time\n",
    "\n",
    "def create_chessboard_1(n):\n",
    "    chessboard = np.zeros((n, n), dtype=int)\n",
    "\n",
    "    # put 1 in definite places in order to get chessboard\n",
    "    chessboard[::2, ::2] = 1\n",
    "    chessboard[1::2, 1::2] = 1\n",
    "\n",
    "    return chessboard\n",
    "\n",
    "def create_chessboard_2(n):\n",
    "    chessboard = np.zeros((n, n), dtype=int)\n",
    "\n",
    "    # put 1 in definite places in order to get chessboard\n",
    "    for i in range(0, n):\n",
    "        for j in range(0,n):\n",
    "            if (i+j) % 2 == 0:\n",
    "                chessboard[i,j] = 1\n",
    "\n",
    "    return chessboard\n",
    "\n",
    "\n",
    "def task_1_2():\n",
    "    error = False\n",
    "    \n",
    "    n_str = input(\"Enter n (positive integer): \")\n",
    "\n",
    "    if is_positive_integer(n_str) == False :\n",
    "            print(\"ERROR: n must be a positive integer\")\n",
    "            error = True\n",
    "\n",
    "    if error == False :\n",
    "        n = int(n_str)\n",
    "        \n",
    "        t = time.time()\n",
    "        create_chessboard_1(n)\n",
    "        print(\"Time using NumPy functions: \" + str(time.time() - t) + \" s\")\n",
    "\n",
    "        t = time.time()\n",
    "        create_chessboard_2(n)\n",
    "        print(\"Time using standard functions: \" + str(time.time() - t) + \" s\")"
   ]
  },
  {
   "cell_type": "code",
   "execution_count": 34,
   "id": "0858831e-e717-4348-ade8-0c555492aa20",
   "metadata": {},
   "outputs": [
    {
     "name": "stdin",
     "output_type": "stream",
     "text": [
      "Enter n (positive integer):  100\n"
     ]
    },
    {
     "name": "stdout",
     "output_type": "stream",
     "text": [
      "Time using NumPy functions: 0.0 s\n",
      "Time using standard functions: 0.002821207046508789 s\n"
     ]
    }
   ],
   "source": [
    "task_1_2()"
   ]
  },
  {
   "cell_type": "code",
   "execution_count": 35,
   "id": "53aa8e45-2370-425e-8c0a-92a52c9c2b68",
   "metadata": {},
   "outputs": [
    {
     "name": "stdin",
     "output_type": "stream",
     "text": [
      "Enter n (positive integer):  1000\n"
     ]
    },
    {
     "name": "stdout",
     "output_type": "stream",
     "text": [
      "Time using NumPy functions: 0.0020754337310791016 s\n",
      "Time using standard functions: 0.24732279777526855 s\n"
     ]
    }
   ],
   "source": [
    "task_1_2()"
   ]
  },
  {
   "cell_type": "code",
   "execution_count": 36,
   "id": "38e1e3ef-de48-4eb5-b435-f664bb4f7c09",
   "metadata": {},
   "outputs": [
    {
     "name": "stdin",
     "output_type": "stream",
     "text": [
      "Enter n (positive integer):  -10\n"
     ]
    },
    {
     "name": "stdout",
     "output_type": "stream",
     "text": [
      "ERROR: n must be a positive integer\n"
     ]
    }
   ],
   "source": [
    "task_1_2()"
   ]
  },
  {
   "cell_type": "code",
   "execution_count": 37,
   "id": "b9a796fd-7657-49f4-89e5-93ab0ba09234",
   "metadata": {},
   "outputs": [
    {
     "name": "stdin",
     "output_type": "stream",
     "text": [
      "Enter n (positive integer):  ewfrghjyt\n"
     ]
    },
    {
     "name": "stdout",
     "output_type": "stream",
     "text": [
      "ERROR: n must be a positive integer\n"
     ]
    }
   ],
   "source": [
    "task_1_2()"
   ]
  },
  {
   "cell_type": "markdown",
   "id": "6a128522-2ac9-4d91-8aad-04bad22c43e7",
   "metadata": {},
   "source": [
    "**Висновок:** код, що використовує універсальні функції бібліотеки NumPy, працює швидше, ніж код, що використовує ітеративні конструкції"
   ]
  },
  {
   "cell_type": "markdown",
   "id": "48ec3f7c-2237-4e6b-b1e8-5d6f4c329eec",
   "metadata": {},
   "source": [
    "#### Вправа 3\n",
    "Вводяться 4 числа n, m, r, c. Вивести масив розміру \n",
    "n×m, в якому в кожному рядку з номером r і в кожному стовпчику  \n",
    "номером c стоять 0, а ін і елементи дорівнюють 1."
   ]
  },
  {
   "cell_type": "code",
   "execution_count": 6,
   "id": "1c1b91a8-b273-4131-9184-e8889e4dac8f",
   "metadata": {},
   "outputs": [],
   "source": [
    "def task_1_3_impl_1(n, m, r, c):\n",
    "    matrix = np.ones((n, m), dtype=int)\n",
    "\n",
    "    matrix[::r, 0::] = 0\n",
    "    matrix[0::, ::c] = 0\n",
    "\n",
    "    return matrix\n",
    "\n",
    "\n",
    "def task_1_3_impl_2(n, m, r, c):\n",
    "    matrix = np.ones((n, m), dtype=int)\n",
    "\n",
    "    for i in range(0, n):\n",
    "        for j in range(0, m):\n",
    "            if (i % r == 0) or (j % c == 0) :\n",
    "                matrix[i,j] = 0\n",
    "\n",
    "    return matrix\n",
    "\n",
    "# print(task_1_3_impl_2(1,1,5,10))"
   ]
  },
  {
   "cell_type": "code",
   "execution_count": 9,
   "id": "d5b4c2b5-c0fe-4c38-ab69-dad671abe926",
   "metadata": {},
   "outputs": [],
   "source": [
    "import time\n",
    "\n",
    "def task_1_3():\n",
    "    error = False\n",
    "    \n",
    "    n_str = input(\"Enter n (positive integer): \")\n",
    "    m_str = input(\"Enter m (positive integer): \")\n",
    "    r_str = input(\"Enter r (positive integer): \")\n",
    "    c_str = input(\"Enter c (positive integer): \")\n",
    "\n",
    "    if is_positive_integer(n_str) == False :\n",
    "            print(\"ERROR: n must be a positive integer\")\n",
    "            error = True\n",
    "    if is_positive_integer(m_str) == False :\n",
    "            print(\"ERROR: m must be a positive integer\")\n",
    "            error = True\n",
    "    if is_positive_integer(r_str) == False :\n",
    "            print(\"ERROR: r must be a positive integer\")\n",
    "            error = True\n",
    "    if is_positive_integer(c_str) == False :\n",
    "            print(\"ERROR: c must be a positive integer\")\n",
    "            error = True\n",
    "\n",
    "    if error == False :\n",
    "        n = int(n_str)\n",
    "        m = int(m_str)\n",
    "        r = int(r_str)\n",
    "        c = int(c_str)\n",
    "        \n",
    "        t = time.time()\n",
    "        matrix = task_1_3_impl_1(n, m, r, c)\n",
    "        print(\"Time using NumPy functions: \" + str(time.time() - t) + \" s\")\n",
    "\n",
    "        t = time.time()\n",
    "        task_1_3_impl_2(n, m, r, c)\n",
    "        print(\"Time using standard functions: \" + str(time.time() - t) + \" s\")\n",
    "\n",
    "        print(\"Result matrix:\")\n",
    "        print(matrix)"
   ]
  },
  {
   "cell_type": "code",
   "execution_count": 53,
   "id": "27c6f095-f6eb-4aba-8f7b-29f9f52bda0f",
   "metadata": {},
   "outputs": [
    {
     "name": "stdin",
     "output_type": "stream",
     "text": [
      "Enter n (positive integer):  100\n",
      "Enter m (positive integer):  100\n",
      "Enter r (positive integer):  5\n",
      "Enter c (positive integer):  5\n"
     ]
    },
    {
     "name": "stdout",
     "output_type": "stream",
     "text": [
      "Time using NumPy functions: 0.0 s\n",
      "Time using standard functions: 0.005087137222290039 s\n",
      "Result matrix:\n",
      "[[0 0 0 ... 0 0 0]\n",
      " [0 1 1 ... 1 1 1]\n",
      " [0 1 1 ... 1 1 1]\n",
      " ...\n",
      " [0 1 1 ... 1 1 1]\n",
      " [0 1 1 ... 1 1 1]\n",
      " [0 1 1 ... 1 1 1]]\n"
     ]
    }
   ],
   "source": [
    "task_1_3()"
   ]
  },
  {
   "cell_type": "code",
   "execution_count": 13,
   "id": "f7ded20a-fc65-4301-8a1b-1dfbcda4a5b0",
   "metadata": {},
   "outputs": [
    {
     "name": "stdin",
     "output_type": "stream",
     "text": [
      "Enter n (positive integer):  1000\n",
      "Enter m (positive integer):  1000\n",
      "Enter r (positive integer):  5\n",
      "Enter c (positive integer):  100\n"
     ]
    },
    {
     "name": "stdout",
     "output_type": "stream",
     "text": [
      "Time using NumPy functions: 0.0009958744049072266 s\n",
      "Time using standard functions: 0.16396117210388184 s\n",
      "Result matrix:\n",
      "[[0 0 0 ... 0 0 0]\n",
      " [0 1 1 ... 1 1 1]\n",
      " [0 1 1 ... 1 1 1]\n",
      " ...\n",
      " [0 1 1 ... 1 1 1]\n",
      " [0 1 1 ... 1 1 1]\n",
      " [0 1 1 ... 1 1 1]]\n"
     ]
    }
   ],
   "source": [
    "task_1_3()"
   ]
  },
  {
   "cell_type": "code",
   "execution_count": 14,
   "id": "04c6f2e2-4cc0-426e-bc70-dec17d8b96ab",
   "metadata": {},
   "outputs": [
    {
     "name": "stdin",
     "output_type": "stream",
     "text": [
      "Enter n (positive integer):  1000\n",
      "Enter m (positive integer):  5000\n",
      "Enter r (positive integer):  100\n",
      "Enter c (positive integer):  200\n"
     ]
    },
    {
     "name": "stdout",
     "output_type": "stream",
     "text": [
      "Time using NumPy functions: 0.005393266677856445 s\n",
      "Time using standard functions: 0.705045223236084 s\n",
      "Result matrix:\n",
      "[[0 0 0 ... 0 0 0]\n",
      " [0 1 1 ... 1 1 1]\n",
      " [0 1 1 ... 1 1 1]\n",
      " ...\n",
      " [0 1 1 ... 1 1 1]\n",
      " [0 1 1 ... 1 1 1]\n",
      " [0 1 1 ... 1 1 1]]\n"
     ]
    }
   ],
   "source": [
    "task_1_3()"
   ]
  },
  {
   "cell_type": "code",
   "execution_count": 15,
   "id": "966b15b0-cc87-4e3f-b3aa-94556f2813c4",
   "metadata": {},
   "outputs": [
    {
     "name": "stdin",
     "output_type": "stream",
     "text": [
      "Enter n (positive integer):  -100\n",
      "Enter m (positive integer):  er\n",
      "Enter r (positive integer):  cvb\n",
      "Enter c (positive integer):  word\n"
     ]
    },
    {
     "name": "stdout",
     "output_type": "stream",
     "text": [
      "ERROR: n must be a positive integer\n",
      "ERROR: m must be a positive integer\n",
      "ERROR: r must be a positive integer\n",
      "ERROR: c must be a positive integer\n"
     ]
    }
   ],
   "source": [
    "task_1_3()"
   ]
  },
  {
   "cell_type": "markdown",
   "id": "39549139-c92c-4597-aa89-4824199c9f57",
   "metadata": {},
   "source": [
    "**Висновок:** код, що використовує універсальні функції бібліотеки NumPy, працює швидше, ніж код, що використовує ітеративні конструкції"
   ]
  },
  {
   "cell_type": "markdown",
   "id": "40a63d1f-113e-4fe2-9cb1-16cfd75dacd9",
   "metadata": {},
   "source": [
    "#### Вправа 5\n",
    "Вводиться число n. Вивести масив розміру n×n, в \n",
    "якому в рядках з парними індексами стоять 1, а в інших – 0."
   ]
  },
  {
   "cell_type": "code",
   "execution_count": 32,
   "id": "dc894a4c-77e4-4582-b12b-b6d1a7a9295e",
   "metadata": {},
   "outputs": [],
   "source": [
    "def task_1_5_impl_1(n):\n",
    "    matrix = np.zeros((n, n), dtype=int)\n",
    "    \n",
    "    matrix[0::2, 0::] = 1\n",
    "    \n",
    "    return matrix\n",
    "\n",
    "\n",
    "def task_1_5_impl_2(n):\n",
    "    matrix = np.zeros((n, n), dtype=int)\n",
    "    \n",
    "    for i in range(0, n):\n",
    "        for j in range(0, n):\n",
    "            if (i % 2 == 0) :\n",
    "                matrix[i,j] = 1\n",
    "    \n",
    "    return matrix"
   ]
  },
  {
   "cell_type": "code",
   "execution_count": 27,
   "id": "769fbe96-085e-468c-84eb-b33e04514a16",
   "metadata": {},
   "outputs": [],
   "source": [
    "def task_1_5():\n",
    "    error = False\n",
    "    \n",
    "    n_str = input(\"Enter n (positive integer): \")\n",
    "\n",
    "    if is_positive_integer(n_str) == False :\n",
    "            print(\"ERROR: n must be a positive integer\")\n",
    "            error = True\n",
    "\n",
    "    if error == False :\n",
    "        n = int(n_str)\n",
    "        \n",
    "        t = time.time()\n",
    "        matrix = task_1_5_impl_1(n)\n",
    "        print(\"Time using NumPy functions: \" + str(time.time() - t) + \" s\")\n",
    "\n",
    "        t = time.time()\n",
    "        task_1_5_impl_2(n)\n",
    "        print(\"Time using standard functions: \" + str(time.time() - t) + \" s\")\n",
    "\n",
    "        print(\"Result matrix:\")\n",
    "        print(matrix)"
   ]
  },
  {
   "cell_type": "code",
   "execution_count": 29,
   "id": "dc38e387-fe2a-438a-8b9f-99e83a094fa0",
   "metadata": {},
   "outputs": [
    {
     "name": "stdin",
     "output_type": "stream",
     "text": [
      "Enter n (positive integer):  100\n"
     ]
    },
    {
     "name": "stdout",
     "output_type": "stream",
     "text": [
      "Time using NumPy functions: 0.0009741783142089844 s\n",
      "Time using standard functions: 0.001993417739868164 s\n",
      "Result matrix:\n",
      "[[1 1 1 ... 1 1 1]\n",
      " [0 0 0 ... 0 0 0]\n",
      " [1 1 1 ... 1 1 1]\n",
      " ...\n",
      " [0 0 0 ... 0 0 0]\n",
      " [1 1 1 ... 1 1 1]\n",
      " [0 0 0 ... 0 0 0]]\n"
     ]
    }
   ],
   "source": [
    "task_1_5()"
   ]
  },
  {
   "cell_type": "code",
   "execution_count": 31,
   "id": "f8dd12a0-14c5-47d9-b26e-1cf906692228",
   "metadata": {},
   "outputs": [
    {
     "name": "stdin",
     "output_type": "stream",
     "text": [
      "Enter n (positive integer):  500\n"
     ]
    },
    {
     "name": "stdout",
     "output_type": "stream",
     "text": [
      "Time using NumPy functions: 0.0 s\n",
      "Time using standard functions: 0.02858257293701172 s\n",
      "Result matrix:\n",
      "[[1 1 1 ... 1 1 1]\n",
      " [0 0 0 ... 0 0 0]\n",
      " [1 1 1 ... 1 1 1]\n",
      " ...\n",
      " [0 0 0 ... 0 0 0]\n",
      " [1 1 1 ... 1 1 1]\n",
      " [0 0 0 ... 0 0 0]]\n"
     ]
    }
   ],
   "source": [
    "task_1_5()"
   ]
  },
  {
   "cell_type": "code",
   "execution_count": 30,
   "id": "dcf1b677-32dd-462c-9a1d-1a7b87f00cb7",
   "metadata": {},
   "outputs": [
    {
     "name": "stdin",
     "output_type": "stream",
     "text": [
      "Enter n (positive integer):  10000\n"
     ]
    },
    {
     "name": "stdout",
     "output_type": "stream",
     "text": [
      "Time using NumPy functions: 0.09466004371643066 s\n",
      "Time using standard functions: 11.323092222213745 s\n",
      "Result matrix:\n",
      "[[1 1 1 ... 1 1 1]\n",
      " [0 0 0 ... 0 0 0]\n",
      " [1 1 1 ... 1 1 1]\n",
      " ...\n",
      " [0 0 0 ... 0 0 0]\n",
      " [1 1 1 ... 1 1 1]\n",
      " [0 0 0 ... 0 0 0]]\n"
     ]
    }
   ],
   "source": [
    "task_1_5()"
   ]
  },
  {
   "cell_type": "code",
   "execution_count": 33,
   "id": "be6bc818-785d-4926-a120-9cfb1cc2a09d",
   "metadata": {},
   "outputs": [
    {
     "name": "stdin",
     "output_type": "stream",
     "text": [
      "Enter n (positive integer):  eiotue\n"
     ]
    },
    {
     "name": "stdout",
     "output_type": "stream",
     "text": [
      "ERROR: n must be a positive integer\n"
     ]
    }
   ],
   "source": [
    "task_1_5()"
   ]
  },
  {
   "cell_type": "markdown",
   "id": "af0e36b0-094c-43cd-83cf-9339b5285a1e",
   "metadata": {},
   "source": [
    "**Висновок:** код, що використовує універсальні функції бібліотеки NumPy, працює швидше, ніж код, що використовує ітеративні конструкції"
   ]
  },
  {
   "cell_type": "markdown",
   "id": "5bee97b0-9ca9-4d11-b6f5-7cc5c0e64876",
   "metadata": {},
   "source": [
    "#### Вправа 9\n",
    "Вводиться число n. Створити масив значень від n до 0."
   ]
  },
  {
   "cell_type": "code",
   "execution_count": 1,
   "id": "07fc8169-cbb3-4919-8333-27203910763e",
   "metadata": {},
   "outputs": [],
   "source": [
    "def task_1_9_impl_1(n):\n",
    "    return np.flip(np.arange(n+1))\n",
    "\n",
    "def task_1_9_impl_2(n):\n",
    "    array = np.zeros(n+1, dtype=int)\n",
    "\n",
    "    for i in range(0, n+1):\n",
    "        array[i] = n-i\n",
    "\n",
    "    return array"
   ]
  },
  {
   "cell_type": "code",
   "execution_count": 2,
   "id": "117298f9-789f-45f7-b0f0-97be8519f322",
   "metadata": {},
   "outputs": [],
   "source": [
    "def task_1_9():\n",
    "    error = False\n",
    "    \n",
    "    n_str = input(\"Enter n (positive integer): \")\n",
    "\n",
    "    if is_positive_integer(n_str) == False :\n",
    "            print(\"ERROR: n must be a positive integer\")\n",
    "            error = True\n",
    "\n",
    "    if error == False :\n",
    "        n = int(n_str)\n",
    "        \n",
    "        t = time.time()\n",
    "        array = task_1_9_impl_1(n)\n",
    "        print(\"Time using NumPy functions: \" + str(time.time() - t) + \" s\")\n",
    "\n",
    "        t = time.time()\n",
    "        task_1_9_impl_2(n)\n",
    "        print(\"Time using standard functions: \" + str(time.time() - t) + \" s\")\n",
    "\n",
    "        print(\"Result array:\")\n",
    "        print(array)"
   ]
  },
  {
   "cell_type": "code",
   "execution_count": 53,
   "id": "3fa80370-f086-4bec-827d-3cdf5c9d76ef",
   "metadata": {},
   "outputs": [
    {
     "name": "stdin",
     "output_type": "stream",
     "text": [
      "Enter n (positive integer):  100\n"
     ]
    },
    {
     "name": "stdout",
     "output_type": "stream",
     "text": [
      "Time using NumPy functions: 0.0 s\n",
      "Time using standard functions: 0.0 s\n",
      "Result array:\n",
      "[100  99  98  97  96  95  94  93  92  91  90  89  88  87  86  85  84  83\n",
      "  82  81  80  79  78  77  76  75  74  73  72  71  70  69  68  67  66  65\n",
      "  64  63  62  61  60  59  58  57  56  55  54  53  52  51  50  49  48  47\n",
      "  46  45  44  43  42  41  40  39  38  37  36  35  34  33  32  31  30  29\n",
      "  28  27  26  25  24  23  22  21  20  19  18  17  16  15  14  13  12  11\n",
      "  10   9   8   7   6   5   4   3   2   1   0]\n"
     ]
    }
   ],
   "source": [
    "task_1_9()"
   ]
  },
  {
   "cell_type": "code",
   "execution_count": 54,
   "id": "7f161a2a-4e0f-4357-9a4a-145f57f02e90",
   "metadata": {},
   "outputs": [
    {
     "name": "stdin",
     "output_type": "stream",
     "text": [
      "Enter n (positive integer):  10000\n"
     ]
    },
    {
     "name": "stdout",
     "output_type": "stream",
     "text": [
      "Time using NumPy functions: 0.0 s\n",
      "Time using standard functions: 0.0015587806701660156 s\n",
      "Result array:\n",
      "[10000  9999  9998 ...     2     1     0]\n"
     ]
    }
   ],
   "source": [
    "task_1_9()"
   ]
  },
  {
   "cell_type": "code",
   "execution_count": 59,
   "id": "8987f65f-885b-4931-98b0-8efc1004ff97",
   "metadata": {},
   "outputs": [
    {
     "name": "stdin",
     "output_type": "stream",
     "text": [
      "Enter n (positive integer):  500000\n"
     ]
    },
    {
     "name": "stdout",
     "output_type": "stream",
     "text": [
      "Time using NumPy functions: 0.0010058879852294922 s\n",
      "Time using standard functions: 0.10160398483276367 s\n",
      "Result array:\n",
      "[500000 499999 499998 ...      2      1      0]\n"
     ]
    }
   ],
   "source": [
    "task_1_9()"
   ]
  },
  {
   "cell_type": "code",
   "execution_count": 55,
   "id": "a3b1d57c-db38-4a3c-82a9-7b9c6863983f",
   "metadata": {},
   "outputs": [
    {
     "name": "stdin",
     "output_type": "stream",
     "text": [
      "Enter n (positive integer):  100000000\n"
     ]
    },
    {
     "name": "stdout",
     "output_type": "stream",
     "text": [
      "Time using NumPy functions: 0.2253127098083496 s\n",
      "Time using standard functions: 14.958905220031738 s\n",
      "Result array:\n",
      "[100000000  99999999  99999998 ...         2         1         0]\n"
     ]
    }
   ],
   "source": [
    "task_1_9()"
   ]
  },
  {
   "cell_type": "code",
   "execution_count": 58,
   "id": "ce338426-22eb-4dd7-84f5-03a42badff22",
   "metadata": {},
   "outputs": [
    {
     "name": "stdin",
     "output_type": "stream",
     "text": [
      "Enter n (positive integer):  0\n"
     ]
    },
    {
     "name": "stdout",
     "output_type": "stream",
     "text": [
      "ERROR: n must be a positive integer\n"
     ]
    }
   ],
   "source": [
    "task_1_9()"
   ]
  },
  {
   "cell_type": "code",
   "execution_count": 56,
   "id": "664e0ea3-5516-4705-9a26-8f0cf4029cdc",
   "metadata": {},
   "outputs": [
    {
     "name": "stdin",
     "output_type": "stream",
     "text": [
      "Enter n (positive integer):  -10\n"
     ]
    },
    {
     "name": "stdout",
     "output_type": "stream",
     "text": [
      "ERROR: n must be a positive integer\n"
     ]
    }
   ],
   "source": [
    "task_1_9()"
   ]
  },
  {
   "cell_type": "code",
   "execution_count": 57,
   "id": "ada79d3b-c1be-4fb6-8746-9557c4147d18",
   "metadata": {},
   "outputs": [
    {
     "name": "stdin",
     "output_type": "stream",
     "text": [
      "Enter n (positive integer):  word\n"
     ]
    },
    {
     "name": "stdout",
     "output_type": "stream",
     "text": [
      "ERROR: n must be a positive integer\n"
     ]
    }
   ],
   "source": [
    "task_1_9()"
   ]
  },
  {
   "cell_type": "markdown",
   "id": "d27d8b85-145f-498a-b151-e5bf925e9630",
   "metadata": {},
   "source": [
    "**Висновок:** код, що використовує універсальні функції бібліотеки NumPy, працює швидше, ніж код, що використовує ітеративні конструкції"
   ]
  },
  {
   "cell_type": "markdown",
   "id": "b4212ac7-4a46-409f-9c26-56308fae849a",
   "metadata": {},
   "source": [
    "#### Вправа 13\n",
    "Розмістити на полі 8×8 нулі та одиниці в шахматному \n",
    "порядку, використовуючи функцію повторення (*)."
   ]
  },
  {
   "cell_type": "code",
   "execution_count": 3,
   "id": "cbd84b0d-96cc-43fb-8ee2-0980088c8c52",
   "metadata": {},
   "outputs": [],
   "source": [
    "# returned row starts from 1\n",
    "def make_chessboard_row(n):\n",
    "    row = [1,0] * int(n/2)\n",
    "\n",
    "    if n % 2 != 0:\n",
    "        row.append(1)\n",
    "    return row\n",
    "\n",
    "def task_1_13_impl_1(n):\n",
    "    chessboard = []\n",
    "    if n % 2 == 0 :\n",
    "        row = make_chessboard_row(n)\n",
    "        chessboard.append(row)\n",
    "        chessboard.append(np.flip(row))\n",
    "        chessboard = chessboard * int(n/2)\n",
    "    else:\n",
    "        chessboard = [1,0] * int(n*n / 2)\n",
    "        chessboard.append(1)\n",
    "    return np.reshape(chessboard, (n,n))\n",
    "\n",
    "def task_1_13_impl_2(n):\n",
    "    chessboard = np.zeros((n, n), dtype=int)\n",
    "\n",
    "    # put 1 in definite places in order to get chessboard\n",
    "    for i in range(0, n):\n",
    "        for j in range(0,n):\n",
    "            if (i+j) % 2 == 0:\n",
    "                chessboard[i,j] = 1\n",
    "\n",
    "    return chessboard"
   ]
  },
  {
   "cell_type": "code",
   "execution_count": 55,
   "id": "f765d362-1b81-45cc-b2cb-de9c1d3ab3db",
   "metadata": {},
   "outputs": [],
   "source": [
    "import time\n",
    "\n",
    "def task_1_13():\n",
    "    error = False\n",
    "    \n",
    "    n_str = input(\"Enter n (positive integer): \")\n",
    "\n",
    "    if is_positive_integer(n_str) == False :\n",
    "            print(\"ERROR: n must be a positive integer\")\n",
    "            error = True\n",
    "\n",
    "    if error == False :\n",
    "        n = int(n_str)\n",
    "        \n",
    "        t = time.time()\n",
    "        matrix = task_1_13_impl_1(n)\n",
    "        print(\"Time using NumPy functions: \" + str(time.time() - t) + \" s\")\n",
    "\n",
    "        t = time.time()\n",
    "        task_1_13_impl_2(n)\n",
    "        print(\"Time using standard functions: \" + str(time.time() - t) + \" s\")\n",
    "\n",
    "        print(\"Result matrix:\")\n",
    "        print(matrix)"
   ]
  },
  {
   "cell_type": "code",
   "execution_count": 13,
   "id": "c06fb1ee-e2ed-47fd-9fb6-c4b270bb133d",
   "metadata": {},
   "outputs": [
    {
     "name": "stdin",
     "output_type": "stream",
     "text": [
      "Enter n (positive integer):  5\n"
     ]
    },
    {
     "name": "stdout",
     "output_type": "stream",
     "text": [
      "Time using NumPy functions: 0.0 s\n",
      "Time using standard functions: 0.0 s\n",
      "Result matrix:\n",
      "[[1 0 1 0 1]\n",
      " [0 1 0 1 0]\n",
      " [1 0 1 0 1]\n",
      " [0 1 0 1 0]\n",
      " [1 0 1 0 1]]\n"
     ]
    }
   ],
   "source": [
    "task_1_13()"
   ]
  },
  {
   "cell_type": "code",
   "execution_count": 12,
   "id": "329e1c42-a195-4cfc-824e-099d5eabffde",
   "metadata": {},
   "outputs": [
    {
     "name": "stdin",
     "output_type": "stream",
     "text": [
      "Enter n (positive integer):  8\n"
     ]
    },
    {
     "name": "stdout",
     "output_type": "stream",
     "text": [
      "Time using NumPy functions: 0.0 s\n",
      "Time using standard functions: 0.0 s\n",
      "Result matrix:\n",
      "[[1 0 1 0 1 0 1 0]\n",
      " [0 1 0 1 0 1 0 1]\n",
      " [1 0 1 0 1 0 1 0]\n",
      " [0 1 0 1 0 1 0 1]\n",
      " [1 0 1 0 1 0 1 0]\n",
      " [0 1 0 1 0 1 0 1]\n",
      " [1 0 1 0 1 0 1 0]\n",
      " [0 1 0 1 0 1 0 1]]\n"
     ]
    }
   ],
   "source": [
    "task_1_13()"
   ]
  },
  {
   "cell_type": "code",
   "execution_count": 122,
   "id": "11346e4f-202d-4c28-8ada-d5c27686afe4",
   "metadata": {},
   "outputs": [
    {
     "name": "stdin",
     "output_type": "stream",
     "text": [
      "Enter n (positive integer):  100\n"
     ]
    },
    {
     "name": "stdout",
     "output_type": "stream",
     "text": [
      "Time using NumPy functions: 0.0009655952453613281 s\n",
      "Time using standard functions: 0.0014400482177734375 s\n",
      "Result matrix:\n",
      "[[1 0 1 ... 0 1 0]\n",
      " [0 1 0 ... 1 0 1]\n",
      " [1 0 1 ... 0 1 0]\n",
      " ...\n",
      " [0 1 0 ... 1 0 1]\n",
      " [1 0 1 ... 0 1 0]\n",
      " [0 1 0 ... 1 0 1]]\n"
     ]
    }
   ],
   "source": [
    "task_1_13()"
   ]
  },
  {
   "cell_type": "code",
   "execution_count": 123,
   "id": "4d23d42f-fb8c-414e-b95d-32891dc83254",
   "metadata": {},
   "outputs": [
    {
     "name": "stdin",
     "output_type": "stream",
     "text": [
      "Enter n (positive integer):  10000\n"
     ]
    },
    {
     "name": "stdout",
     "output_type": "stream",
     "text": [
      "Time using NumPy functions: 2.244391679763794 s\n",
      "Time using standard functions: 13.14900279045105 s\n",
      "Result matrix:\n",
      "[[1 0 1 ... 0 1 0]\n",
      " [0 1 0 ... 1 0 1]\n",
      " [1 0 1 ... 0 1 0]\n",
      " ...\n",
      " [0 1 0 ... 1 0 1]\n",
      " [1 0 1 ... 0 1 0]\n",
      " [0 1 0 ... 1 0 1]]\n"
     ]
    }
   ],
   "source": [
    "task_1_13()"
   ]
  },
  {
   "cell_type": "code",
   "execution_count": 5,
   "id": "d8c67466-2bb8-4f66-92df-a2c3e597f79a",
   "metadata": {},
   "outputs": [
    {
     "name": "stdin",
     "output_type": "stream",
     "text": [
      "Enter n (positive integer):  0\n"
     ]
    },
    {
     "name": "stdout",
     "output_type": "stream",
     "text": [
      "ERROR: n must be a positive integer\n"
     ]
    }
   ],
   "source": [
    "task_1_13()"
   ]
  },
  {
   "cell_type": "code",
   "execution_count": 6,
   "id": "fba53943-50cd-4b1d-a12c-daec24d4a3ca",
   "metadata": {},
   "outputs": [
    {
     "name": "stdin",
     "output_type": "stream",
     "text": [
      "Enter n (positive integer):  -10\n"
     ]
    },
    {
     "name": "stdout",
     "output_type": "stream",
     "text": [
      "ERROR: n must be a positive integer\n"
     ]
    }
   ],
   "source": [
    "task_1_13()"
   ]
  },
  {
   "cell_type": "code",
   "execution_count": 7,
   "id": "05c6f3fc-4c3b-423d-a3b6-904f8cb9671e",
   "metadata": {},
   "outputs": [
    {
     "name": "stdin",
     "output_type": "stream",
     "text": [
      "Enter n (positive integer):  word\n"
     ]
    },
    {
     "name": "stdout",
     "output_type": "stream",
     "text": [
      "ERROR: n must be a positive integer\n"
     ]
    }
   ],
   "source": [
    "task_1_13()"
   ]
  },
  {
   "cell_type": "markdown",
   "id": "331cf71b-d3ca-4b3c-810d-563500283955",
   "metadata": {},
   "source": [
    "**Висновок:** код, що використовує універсальні функції бібліотеки NumPy, працює швидше, ніж код, що використовує ітеративні конструкції"
   ]
  },
  {
   "cell_type": "markdown",
   "id": "ed78750f-7830-4431-ad34-869c113b1490",
   "metadata": {},
   "source": [
    "#### Вправа 14\n",
    "Розмістити на полі 8×8 нулі та одиниці в шахматному порядку, використовуючи функцію numpy `tile()`."
   ]
  },
  {
   "cell_type": "code",
   "execution_count": 3,
   "id": "cca6ade6-14c4-45f7-af48-b5f406c78983",
   "metadata": {},
   "outputs": [],
   "source": [
    "# returned row starts from 1\n",
    "def make_chessboard_row(n):\n",
    "    row = [1,0] * int(n/2)\n",
    "\n",
    "    if n % 2 != 0:\n",
    "        row.append(1)\n",
    "    return np.array(row)\n",
    "\n",
    "\n",
    "def task_1_14_impl_1(n):\n",
    "    row = make_chessboard_row(n)\n",
    "    \n",
    "    if n == 1 :\n",
    "        return np.array([row])        \n",
    "\n",
    "    stripe = np.append(row, (1-row)).reshape(2, n) # it is correct (chess-ordered) pattern that can be repeated to get full chessboard\n",
    "    chessboard = np.tile(stripe, (n//2, 1)) # repeat one two-striped block along the vertical axis\n",
    "\n",
    "    if n % 2 == 0 :\n",
    "        return chessboard\n",
    "    else:\n",
    "        return np.vstack([chessboard, row])\n",
    "\n",
    "\n",
    "def task_1_14_impl_2(n):\n",
    "    chessboard = np.zeros((n, n), dtype=int)\n",
    "\n",
    "    # put 1 in definite places in order to get chessboard\n",
    "    for i in range(0, n):\n",
    "        for j in range(0,n):\n",
    "            if (i+j) % 2 == 0:\n",
    "                chessboard[i,j] = 1\n",
    "\n",
    "    return chessboard\n"
   ]
  },
  {
   "cell_type": "code",
   "execution_count": 4,
   "id": "d35a13e8-6a0a-4bf2-8785-4ac6c40acf76",
   "metadata": {},
   "outputs": [],
   "source": [
    "import time\n",
    "\n",
    "def task_1_14():\n",
    "    error = False\n",
    "    \n",
    "    n_str = input(\"Enter n (positive integer): \")\n",
    "\n",
    "    if is_positive_integer(n_str) == False :\n",
    "            print(\"ERROR: n must be a positive integer\")\n",
    "            error = True\n",
    "\n",
    "    if error == False :\n",
    "        n = int(n_str)\n",
    "        \n",
    "        t = time.time()\n",
    "        matrix = task_1_14_impl_1(n)\n",
    "        print(\"Time using NumPy functions: \" + str(time.time() - t) + \" s\")\n",
    "\n",
    "        t = time.time()\n",
    "        task_1_14_impl_2(n)\n",
    "        print(\"Time using standard functions: \" + str(time.time() - t) + \" s\")\n",
    "\n",
    "        print(\"Result matrix:\")\n",
    "        print(matrix)"
   ]
  },
  {
   "cell_type": "code",
   "execution_count": 73,
   "id": "b4ed8c9e-b24a-40ec-a289-5427c8ba32d7",
   "metadata": {},
   "outputs": [
    {
     "name": "stdin",
     "output_type": "stream",
     "text": [
      "Enter n (positive integer):  1\n"
     ]
    },
    {
     "name": "stdout",
     "output_type": "stream",
     "text": [
      "Time using NumPy functions: 0.0 s\n",
      "Time using standard functions: 0.0 s\n",
      "Result matrix:\n",
      "[[1]]\n"
     ]
    }
   ],
   "source": [
    "task_1_14()"
   ]
  },
  {
   "cell_type": "code",
   "execution_count": 74,
   "id": "a7a351da-a44f-4733-83b4-36000e518ccb",
   "metadata": {},
   "outputs": [
    {
     "name": "stdin",
     "output_type": "stream",
     "text": [
      "Enter n (positive integer):  5\n"
     ]
    },
    {
     "name": "stdout",
     "output_type": "stream",
     "text": [
      "Time using NumPy functions: 0.0 s\n",
      "Time using standard functions: 0.0 s\n",
      "Result matrix:\n",
      "[[1 0 1 0 1]\n",
      " [0 1 0 1 0]\n",
      " [1 0 1 0 1]\n",
      " [0 1 0 1 0]\n",
      " [1 0 1 0 1]]\n"
     ]
    }
   ],
   "source": [
    "task_1_14()"
   ]
  },
  {
   "cell_type": "code",
   "execution_count": 75,
   "id": "79909d31-3849-484e-8422-dab4ce298300",
   "metadata": {},
   "outputs": [
    {
     "name": "stdin",
     "output_type": "stream",
     "text": [
      "Enter n (positive integer):  8\n"
     ]
    },
    {
     "name": "stdout",
     "output_type": "stream",
     "text": [
      "Time using NumPy functions: 0.0 s\n",
      "Time using standard functions: 0.0 s\n",
      "Result matrix:\n",
      "[[1 0 1 0 1 0 1 0]\n",
      " [0 1 0 1 0 1 0 1]\n",
      " [1 0 1 0 1 0 1 0]\n",
      " [0 1 0 1 0 1 0 1]\n",
      " [1 0 1 0 1 0 1 0]\n",
      " [0 1 0 1 0 1 0 1]\n",
      " [1 0 1 0 1 0 1 0]\n",
      " [0 1 0 1 0 1 0 1]]\n"
     ]
    }
   ],
   "source": [
    "task_1_14()"
   ]
  },
  {
   "cell_type": "code",
   "execution_count": 78,
   "id": "332e47c4-e7ac-4af4-8ec3-b71f5d9a8308",
   "metadata": {},
   "outputs": [
    {
     "name": "stdin",
     "output_type": "stream",
     "text": [
      "Enter n (positive integer):  100\n"
     ]
    },
    {
     "name": "stdout",
     "output_type": "stream",
     "text": [
      "Time using NumPy functions: 0.0 s\n",
      "Time using standard functions: 0.003131866455078125 s\n",
      "Result matrix:\n",
      "[[1 0 1 ... 0 1 0]\n",
      " [0 1 0 ... 1 0 1]\n",
      " [1 0 1 ... 0 1 0]\n",
      " ...\n",
      " [0 1 0 ... 1 0 1]\n",
      " [1 0 1 ... 0 1 0]\n",
      " [0 1 0 ... 1 0 1]]\n"
     ]
    }
   ],
   "source": [
    "task_1_14()"
   ]
  },
  {
   "cell_type": "code",
   "execution_count": 79,
   "id": "cfa0c442-75cc-4b47-8965-fc2b0845fe7f",
   "metadata": {},
   "outputs": [
    {
     "name": "stdin",
     "output_type": "stream",
     "text": [
      "Enter n (positive integer):  10000\n"
     ]
    },
    {
     "name": "stdout",
     "output_type": "stream",
     "text": [
      "Time using NumPy functions: 0.1300508975982666 s\n",
      "Time using standard functions: 16.742042064666748 s\n",
      "Result matrix:\n",
      "[[1 0 1 ... 0 1 0]\n",
      " [0 1 0 ... 1 0 1]\n",
      " [1 0 1 ... 0 1 0]\n",
      " ...\n",
      " [0 1 0 ... 1 0 1]\n",
      " [1 0 1 ... 0 1 0]\n",
      " [0 1 0 ... 1 0 1]]\n"
     ]
    }
   ],
   "source": [
    "task_1_14()"
   ]
  },
  {
   "cell_type": "code",
   "execution_count": 5,
   "id": "9e017f2a-4abe-45d3-bd62-41db08791fa0",
   "metadata": {},
   "outputs": [
    {
     "name": "stdin",
     "output_type": "stream",
     "text": [
      "Enter n (positive integer):  0\n"
     ]
    },
    {
     "name": "stdout",
     "output_type": "stream",
     "text": [
      "ERROR: n must be a positive integer\n"
     ]
    }
   ],
   "source": [
    "task_1_14()"
   ]
  },
  {
   "cell_type": "code",
   "execution_count": 6,
   "id": "05655c47-4676-40eb-afba-716fb494d1c1",
   "metadata": {},
   "outputs": [
    {
     "name": "stdin",
     "output_type": "stream",
     "text": [
      "Enter n (positive integer):  -10\n"
     ]
    },
    {
     "name": "stdout",
     "output_type": "stream",
     "text": [
      "ERROR: n must be a positive integer\n"
     ]
    }
   ],
   "source": [
    "task_1_14()"
   ]
  },
  {
   "cell_type": "code",
   "execution_count": 7,
   "id": "06ae5b50-b0f3-4ad7-8d73-43ab14801782",
   "metadata": {},
   "outputs": [
    {
     "name": "stdin",
     "output_type": "stream",
     "text": [
      "Enter n (positive integer):  word\n"
     ]
    },
    {
     "name": "stdout",
     "output_type": "stream",
     "text": [
      "ERROR: n must be a positive integer\n"
     ]
    }
   ],
   "source": [
    "task_1_14()"
   ]
  },
  {
   "cell_type": "markdown",
   "id": "f0f64463-7c33-4a9e-9ccb-0e673df32079",
   "metadata": {},
   "source": [
    "**Висновок:** код, що використовує універсальні функції бібліотеки NumPy, працює швидше, ніж код, що використовує ітеративні конструкції"
   ]
  },
  {
   "cell_type": "markdown",
   "id": "b7f7537e-7f46-4e14-88b2-21e1d2837567",
   "metadata": {},
   "source": [
    "#### Вправа 16\n",
    "Заповнити вектор значеннями від 0 до n. Всі значення, \n",
    "що більші за n/4 та менші за 3n/4 замінити нулями."
   ]
  },
  {
   "cell_type": "code",
   "execution_count": 7,
   "id": "acefac2a-b116-47f5-b656-108ec8ea99b4",
   "metadata": {},
   "outputs": [],
   "source": [
    "import numpy as np\n",
    "\n",
    "def task_1_16_impl_1(n):\n",
    "    array = np.arange(n+1)\n",
    "    array[(array > n/4) & (array < 3*n/4)] = 0\n",
    "    return array\n",
    "\n",
    "def task_1_16_impl_2(n):\n",
    "    array = np.arange(n+1)\n",
    "\n",
    "    for i in range(0, n+1):\n",
    "        if (array[i] > n/4) and (array[i] < 3*n/4) :\n",
    "            array[i] = 0\n",
    "        \n",
    "    return array"
   ]
  },
  {
   "cell_type": "code",
   "execution_count": 5,
   "id": "dbac5202-10c1-4c0e-acd1-4e8da426d6e7",
   "metadata": {},
   "outputs": [],
   "source": [
    "import time\n",
    "\n",
    "def task_1_16():\n",
    "    error = False\n",
    "    \n",
    "    n_str = input(\"Enter n (positive integer): \")\n",
    "\n",
    "    if is_positive_integer(n_str) == False :\n",
    "            print(\"ERROR: n must be a positive integer\")\n",
    "            error = True\n",
    "\n",
    "    if error == False :\n",
    "        n = int(n_str)\n",
    "        \n",
    "        t = time.time()\n",
    "        array = task_1_16_impl_1(n)\n",
    "        print(\"Time using NumPy functions: \" + str(time.time() - t) + \" s\")\n",
    "\n",
    "        t = time.time()\n",
    "        task_1_16_impl_2(n)\n",
    "        print(\"Time using standard functions: \" + str(time.time() - t) + \" s\")\n",
    "\n",
    "        print(\"Result array:\")\n",
    "        print(array)"
   ]
  },
  {
   "cell_type": "code",
   "execution_count": 16,
   "id": "285ced52-c04c-4eb5-abb7-61a5067483ad",
   "metadata": {},
   "outputs": [
    {
     "name": "stdin",
     "output_type": "stream",
     "text": [
      "Enter n (positive integer):  10\n"
     ]
    },
    {
     "name": "stdout",
     "output_type": "stream",
     "text": [
      "Time using NumPy functions: 0.0 s\n",
      "Time using standard functions: 0.0 s\n",
      "Result array:\n",
      "[ 0  1  2  0  0  0  0  0  8  9 10]\n"
     ]
    }
   ],
   "source": [
    "task_1_16()"
   ]
  },
  {
   "cell_type": "code",
   "execution_count": 17,
   "id": "96cc2d03-6924-4a0f-9d60-64c6a85f4166",
   "metadata": {},
   "outputs": [
    {
     "name": "stdin",
     "output_type": "stream",
     "text": [
      "Enter n (positive integer):  10000\n"
     ]
    },
    {
     "name": "stdout",
     "output_type": "stream",
     "text": [
      "Time using NumPy functions: 0.0 s\n",
      "Time using standard functions: 0.05921792984008789 s\n",
      "Result array:\n",
      "[    0     1     2 ...  9998  9999 10000]\n"
     ]
    }
   ],
   "source": [
    "task_1_16()"
   ]
  },
  {
   "cell_type": "code",
   "execution_count": 9,
   "id": "4963c022-bdf2-44ff-8484-081e1caa8b2c",
   "metadata": {},
   "outputs": [
    {
     "name": "stdin",
     "output_type": "stream",
     "text": [
      "Enter n (positive integer):  1000000\n"
     ]
    },
    {
     "name": "stdout",
     "output_type": "stream",
     "text": [
      "Time using NumPy functions: 0.008514642715454102 s\n",
      "Time using standard functions: 7.8941895961761475 s\n",
      "Result array:\n",
      "[      0       1       2 ...  999998  999999 1000000]\n"
     ]
    }
   ],
   "source": [
    "task_1_16()"
   ]
  },
  {
   "cell_type": "code",
   "execution_count": 10,
   "id": "a6acd74b-ee0d-4743-8ef8-76b2253b6369",
   "metadata": {},
   "outputs": [
    {
     "name": "stdin",
     "output_type": "stream",
     "text": [
      "Enter n (positive integer):  0\n"
     ]
    },
    {
     "name": "stdout",
     "output_type": "stream",
     "text": [
      "ERROR: n must be a positive integer\n"
     ]
    }
   ],
   "source": [
    "task_1_16()"
   ]
  },
  {
   "cell_type": "code",
   "execution_count": 11,
   "id": "38816920-7af6-4bcf-ab84-05e80392471c",
   "metadata": {},
   "outputs": [
    {
     "name": "stdin",
     "output_type": "stream",
     "text": [
      "Enter n (positive integer):  -10\n"
     ]
    },
    {
     "name": "stdout",
     "output_type": "stream",
     "text": [
      "ERROR: n must be a positive integer\n"
     ]
    }
   ],
   "source": [
    "task_1_16()"
   ]
  },
  {
   "cell_type": "code",
   "execution_count": 12,
   "id": "23975518-64fd-42f6-b3d7-1d9167bbcccb",
   "metadata": {},
   "outputs": [
    {
     "name": "stdin",
     "output_type": "stream",
     "text": [
      "Enter n (positive integer):  word\n"
     ]
    },
    {
     "name": "stdout",
     "output_type": "stream",
     "text": [
      "ERROR: n must be a positive integer\n"
     ]
    }
   ],
   "source": [
    "task_1_16()"
   ]
  },
  {
   "cell_type": "markdown",
   "id": "0a00efe8-3e4d-434e-87c4-653f1c7c59fd",
   "metadata": {},
   "source": [
    "**Висновок:** код, що використовує універсальні функції бібліотеки NumPy, працює швидше, ніж код, що використовує ітеративні конструкції"
   ]
  },
  {
   "cell_type": "markdown",
   "id": "c90c3ee1-72cd-4e7e-a869-685482532af6",
   "metadata": {},
   "source": [
    "#### Вправа 17\n",
    "Заповнити вектор значеннями від 0 до n. Замінити \n",
    "знаки для всіх значень, що менші за n/2 та більші за 3n/4 на \n",
    "протилежні."
   ]
  },
  {
   "cell_type": "code",
   "execution_count": 34,
   "id": "5e3528d8-d3c0-4632-950d-eba36da3a3b9",
   "metadata": {},
   "outputs": [],
   "source": [
    "import numpy as np\n",
    "\n",
    "def task_1_17_impl_1(n):\n",
    "    array = np.arange(n+1)\n",
    "    array[(array < n/2) | (array > 3*n/4)] = (-1) * array[(array < n/2) | (array > 3*n/4)]\n",
    "    return array\n",
    "\n",
    "def task_1_17_impl_2(n):\n",
    "    array = np.arange(n+1)\n",
    "\n",
    "    for i in range(0, n+1):\n",
    "        if (array[i] < n/2) or (array[i] > 3*n/4) :\n",
    "            array[i] = (-1) * array[i]\n",
    "        \n",
    "    return array"
   ]
  },
  {
   "cell_type": "code",
   "execution_count": 35,
   "id": "98017262-d767-4d5a-99ac-f66daf9eaa2a",
   "metadata": {},
   "outputs": [],
   "source": [
    "import time\n",
    "\n",
    "def task_1_17():\n",
    "    error = False\n",
    "    \n",
    "    n_str = input(\"Enter n (positive integer): \")\n",
    "\n",
    "    if is_positive_integer(n_str) == False :\n",
    "            print(\"ERROR: n must be a positive integer\")\n",
    "            error = True\n",
    "\n",
    "    if error == False :\n",
    "        n = int(n_str)\n",
    "        \n",
    "        t = time.time()\n",
    "        array = task_1_17_impl_1(n)\n",
    "        print(\"Time using NumPy functions: \" + str(time.time() - t) + \" s\")\n",
    "\n",
    "        t = time.time()\n",
    "        task_1_17_impl_2(n)\n",
    "        print(\"Time using standard functions: \" + str(time.time() - t) + \" s\")\n",
    "\n",
    "        print(\"Result array:\")\n",
    "        print(array)"
   ]
  },
  {
   "cell_type": "code",
   "execution_count": 36,
   "id": "3c8d2afc-2c0d-4d0c-ab5a-f6d00656e13a",
   "metadata": {},
   "outputs": [
    {
     "name": "stdin",
     "output_type": "stream",
     "text": [
      "Enter n (positive integer):  10\n"
     ]
    },
    {
     "name": "stdout",
     "output_type": "stream",
     "text": [
      "Time using NumPy functions: 0.0 s\n",
      "Time using standard functions: 0.0 s\n",
      "Result array:\n",
      "[  0  -1  -2  -3  -4   5   6   7  -8  -9 -10]\n"
     ]
    }
   ],
   "source": [
    "task_1_17()"
   ]
  },
  {
   "cell_type": "code",
   "execution_count": 37,
   "id": "6abd3429-eb46-4844-b68a-9749db3e8cc1",
   "metadata": {},
   "outputs": [
    {
     "name": "stdin",
     "output_type": "stream",
     "text": [
      "Enter n (positive integer):  10000\n"
     ]
    },
    {
     "name": "stdout",
     "output_type": "stream",
     "text": [
      "Time using NumPy functions: 0.0 s\n",
      "Time using standard functions: 0.0653533935546875 s\n",
      "Result array:\n",
      "[     0     -1     -2 ...  -9998  -9999 -10000]\n"
     ]
    }
   ],
   "source": [
    "task_1_17()"
   ]
  },
  {
   "cell_type": "code",
   "execution_count": 38,
   "id": "d33a91bf-d2bf-45e1-8d5f-e011d26a3e3d",
   "metadata": {},
   "outputs": [
    {
     "name": "stdin",
     "output_type": "stream",
     "text": [
      "Enter n (positive integer):  1000000\n"
     ]
    },
    {
     "name": "stdout",
     "output_type": "stream",
     "text": [
      "Time using NumPy functions: 0.02066946029663086 s\n",
      "Time using standard functions: 7.16433572769165 s\n",
      "Result array:\n",
      "[       0       -1       -2 ...  -999998  -999999 -1000000]\n"
     ]
    }
   ],
   "source": [
    "task_1_17()"
   ]
  },
  {
   "cell_type": "code",
   "execution_count": 39,
   "id": "86a56430-b69c-4a72-9caa-37d3b31e66a1",
   "metadata": {},
   "outputs": [
    {
     "name": "stdin",
     "output_type": "stream",
     "text": [
      "Enter n (positive integer):  0\n"
     ]
    },
    {
     "name": "stdout",
     "output_type": "stream",
     "text": [
      "ERROR: n must be a positive integer\n"
     ]
    }
   ],
   "source": [
    "task_1_17()"
   ]
  },
  {
   "cell_type": "code",
   "execution_count": 40,
   "id": "4af9426e-3bf3-436b-b220-77ea13b3d511",
   "metadata": {},
   "outputs": [
    {
     "name": "stdin",
     "output_type": "stream",
     "text": [
      "Enter n (positive integer):  -10\n"
     ]
    },
    {
     "name": "stdout",
     "output_type": "stream",
     "text": [
      "ERROR: n must be a positive integer\n"
     ]
    }
   ],
   "source": [
    "task_1_17()"
   ]
  },
  {
   "cell_type": "code",
   "execution_count": 41,
   "id": "37d83dc9-03ec-4173-b1a6-c0c770774ce8",
   "metadata": {},
   "outputs": [
    {
     "name": "stdin",
     "output_type": "stream",
     "text": [
      "Enter n (positive integer):  word\n"
     ]
    },
    {
     "name": "stdout",
     "output_type": "stream",
     "text": [
      "ERROR: n must be a positive integer\n"
     ]
    }
   ],
   "source": [
    "task_1_17()"
   ]
  },
  {
   "cell_type": "markdown",
   "id": "42b828f3-2667-4167-aa74-845ef074ab54",
   "metadata": {},
   "source": [
    "**Висновок:** код, що використовує універсальні функції бібліотеки NumPy, працює швидше, ніж код, що використовує ітеративні конструкції"
   ]
  },
  {
   "cell_type": "markdown",
   "id": "d5827efc-08f0-4013-a5c1-ccf4ae0b909e",
   "metadata": {},
   "source": [
    "#### Вправа 20\n",
    "Згенерувати вектор із n випадкових елементів, що \n",
    "лежать в інтервалі (0,1). Замінити максимальний елемент на 0."
   ]
  },
  {
   "cell_type": "code",
   "execution_count": 72,
   "id": "bbda37ec-e231-4165-8582-89bb5510cc07",
   "metadata": {},
   "outputs": [],
   "source": [
    "import numpy as np\n",
    "import math\n",
    "\n",
    "def task_1_20_impl_1(array):\n",
    "    array_copy = np.copy(array)\n",
    "    max_indices = np.where(array_copy == np.max(array_copy))\n",
    "\n",
    "    array_copy[max_indices] = 0\n",
    "    return array_copy\n",
    "\n",
    "\n",
    "def task_1_20_impl_2(array):\n",
    "    array_copy = np.copy(array)\n",
    "\n",
    "    max_item = max(array_copy)\n",
    "   \n",
    "    for i in range(0, array_copy.size):\n",
    "        if math.isclose(max_item, array_copy[i]) == True :\n",
    "            array_copy[i] = 0            \n",
    "    return array_copy"
   ]
  },
  {
   "cell_type": "code",
   "execution_count": 80,
   "id": "b52d28b5-97f4-4567-a4ae-58bb1ab60406",
   "metadata": {},
   "outputs": [],
   "source": [
    "import time\n",
    "\n",
    "def task_1_20():\n",
    "    error = False\n",
    "    \n",
    "    n_str = input(\"Enter n (positive integer): \")\n",
    "\n",
    "    if is_positive_integer(n_str) == False :\n",
    "            print(\"ERROR: n must be a positive integer\")\n",
    "            error = True\n",
    "\n",
    "    if error == False :\n",
    "        n = int(n_str)\n",
    "        \n",
    "        array = np.random.random(n)\n",
    "        \n",
    "        t = time.time()\n",
    "        result_array = task_1_20_impl_1(array)\n",
    "        print(\"Time using NumPy functions: \" + str(time.time() - t) + \" s\")\n",
    "\n",
    "        t = time.time()\n",
    "        task_1_20_impl_2(array)\n",
    "        print(\"Time using standard functions: \" + str(time.time() - t) + \" s\")\n",
    "\n",
    "        print(\"\\nOriginal array:\")\n",
    "        print(array)\n",
    "        print(\"Result array:\")\n",
    "        print(result_array)"
   ]
  },
  {
   "cell_type": "code",
   "execution_count": 81,
   "id": "a02a6c1b-d8bb-4313-9366-c680976d3a98",
   "metadata": {},
   "outputs": [
    {
     "name": "stdin",
     "output_type": "stream",
     "text": [
      "Enter n (positive integer):  10\n"
     ]
    },
    {
     "name": "stdout",
     "output_type": "stream",
     "text": [
      "Time using NumPy functions: 0.0 s\n",
      "Time using standard functions: 0.0 s\n",
      "\n",
      "Original array:\n",
      "[0.79004229 0.76705957 0.35479101 0.76934704 0.71067404 0.94366045\n",
      " 0.86651532 0.11568448 0.91891809 0.61431413]\n",
      "Result array:\n",
      "[0.79004229 0.76705957 0.35479101 0.76934704 0.71067404 0.\n",
      " 0.86651532 0.11568448 0.91891809 0.61431413]\n"
     ]
    }
   ],
   "source": [
    "task_1_20()"
   ]
  },
  {
   "cell_type": "code",
   "execution_count": 82,
   "id": "660fb937-cdf2-403d-8c60-33360f9d6593",
   "metadata": {},
   "outputs": [
    {
     "name": "stdin",
     "output_type": "stream",
     "text": [
      "Enter n (positive integer):  100\n"
     ]
    },
    {
     "name": "stdout",
     "output_type": "stream",
     "text": [
      "Time using NumPy functions: 0.0 s\n",
      "Time using standard functions: 0.0 s\n",
      "\n",
      "Original array:\n",
      "[0.17609779 0.14764824 0.15769118 0.15676041 0.99407655 0.37357729\n",
      " 0.45786722 0.45896932 0.91408672 0.78792058 0.65241608 0.93998265\n",
      " 0.69140192 0.12549802 0.64401781 0.34618314 0.12844803 0.31170786\n",
      " 0.1485834  0.69465253 0.04971429 0.38840722 0.0745326  0.22858046\n",
      " 0.41378789 0.40503801 0.1759694  0.10631506 0.96941349 0.85400736\n",
      " 0.59487385 0.67511991 0.33079881 0.86932108 0.28376377 0.35055741\n",
      " 0.01297232 0.70314644 0.64784861 0.90626852 0.85949104 0.79344768\n",
      " 0.5726976  0.42077766 0.64239937 0.95244609 0.98891825 0.64442743\n",
      " 0.73522154 0.03624768 0.76114877 0.50605134 0.40333098 0.91135833\n",
      " 0.08111944 0.13189308 0.77092098 0.92528661 0.11003949 0.65704571\n",
      " 0.0396414  0.84520205 0.64804751 0.15240263 0.93099178 0.45023428\n",
      " 0.0010138  0.98729173 0.57212515 0.34079594 0.0032709  0.12617724\n",
      " 0.84711602 0.21657855 0.83690948 0.67204205 0.48852605 0.61313153\n",
      " 0.16566463 0.55535782 0.15740694 0.49591223 0.53418484 0.41146402\n",
      " 0.02361802 0.1971754  0.81389172 0.50222372 0.24532766 0.71674789\n",
      " 0.80677633 0.04900325 0.67871186 0.97534797 0.70825887 0.73676891\n",
      " 0.61072779 0.39650081 0.03641125 0.13807249]\n",
      "Result array:\n",
      "[0.17609779 0.14764824 0.15769118 0.15676041 0.         0.37357729\n",
      " 0.45786722 0.45896932 0.91408672 0.78792058 0.65241608 0.93998265\n",
      " 0.69140192 0.12549802 0.64401781 0.34618314 0.12844803 0.31170786\n",
      " 0.1485834  0.69465253 0.04971429 0.38840722 0.0745326  0.22858046\n",
      " 0.41378789 0.40503801 0.1759694  0.10631506 0.96941349 0.85400736\n",
      " 0.59487385 0.67511991 0.33079881 0.86932108 0.28376377 0.35055741\n",
      " 0.01297232 0.70314644 0.64784861 0.90626852 0.85949104 0.79344768\n",
      " 0.5726976  0.42077766 0.64239937 0.95244609 0.98891825 0.64442743\n",
      " 0.73522154 0.03624768 0.76114877 0.50605134 0.40333098 0.91135833\n",
      " 0.08111944 0.13189308 0.77092098 0.92528661 0.11003949 0.65704571\n",
      " 0.0396414  0.84520205 0.64804751 0.15240263 0.93099178 0.45023428\n",
      " 0.0010138  0.98729173 0.57212515 0.34079594 0.0032709  0.12617724\n",
      " 0.84711602 0.21657855 0.83690948 0.67204205 0.48852605 0.61313153\n",
      " 0.16566463 0.55535782 0.15740694 0.49591223 0.53418484 0.41146402\n",
      " 0.02361802 0.1971754  0.81389172 0.50222372 0.24532766 0.71674789\n",
      " 0.80677633 0.04900325 0.67871186 0.97534797 0.70825887 0.73676891\n",
      " 0.61072779 0.39650081 0.03641125 0.13807249]\n"
     ]
    }
   ],
   "source": [
    "task_1_20()"
   ]
  },
  {
   "cell_type": "code",
   "execution_count": 83,
   "id": "9949ddbd-b081-44da-83e8-c84d19404925",
   "metadata": {},
   "outputs": [
    {
     "name": "stdin",
     "output_type": "stream",
     "text": [
      "Enter n (positive integer):  100000\n"
     ]
    },
    {
     "name": "stdout",
     "output_type": "stream",
     "text": [
      "Time using NumPy functions: 0.0012173652648925781 s\n",
      "Time using standard functions: 0.023110389709472656 s\n",
      "\n",
      "Original array:\n",
      "[0.95397985 0.32436108 0.72255348 ... 0.43442206 0.23689587 0.56486067]\n",
      "Result array:\n",
      "[0.95397985 0.32436108 0.72255348 ... 0.43442206 0.23689587 0.56486067]\n"
     ]
    }
   ],
   "source": [
    "task_1_20()"
   ]
  },
  {
   "cell_type": "code",
   "execution_count": 86,
   "id": "802f0573-ebac-4ac5-a985-84a3ebe661cf",
   "metadata": {},
   "outputs": [
    {
     "name": "stdin",
     "output_type": "stream",
     "text": [
      "Enter n (positive integer):  10000000\n"
     ]
    },
    {
     "name": "stdout",
     "output_type": "stream",
     "text": [
      "Time using NumPy functions: 0.04534173011779785 s\n",
      "Time using standard functions: 2.1437437534332275 s\n",
      "\n",
      "Original array:\n",
      "[0.62770264 0.72401226 0.89313227 ... 0.31906153 0.18861307 0.3495027 ]\n",
      "Result array:\n",
      "[0.62770264 0.72401226 0.89313227 ... 0.31906153 0.18861307 0.3495027 ]\n"
     ]
    }
   ],
   "source": [
    "task_1_20()"
   ]
  },
  {
   "cell_type": "markdown",
   "id": "7775e4ee-2fa5-43b1-a3fd-ca8c5caf3b18",
   "metadata": {},
   "source": [
    "**Висновок:** код, що використовує універсальні функції бібліотеки NumPy, працює швидше, ніж код, що використовує ітеративні конструкції"
   ]
  },
  {
   "cell_type": "markdown",
   "id": "7cb0727c-9497-4ad8-85fc-aecd1c71da9c",
   "metadata": {},
   "source": [
    "### Завдання 2\n",
    "\n",
    "Розв’язати систему алгебраїчних рівнянь за допомогою формул Крамера і виконати перевірку за допомогою:\n",
    "\n",
    "1) матричного множення;\n",
    "2) оберненої матриці;\n",
    "3) функції `numpy.linalg.solve()`\n",
    "\n",
    "Порівняти всі рішення за допомогою функції `numpy.allclose()`\n",
    "\n",
    "Дана така СЛАР:\n",
    "\\begin{cases} \n",
    "x_{1} + 2x_{2} + 3x_{3} - 2x_{4} = 6 \\\\ \n",
    "x_{1} - x_{2} - 2x_{3} - 3x_{4} = 8 \\\\ \n",
    "3x_{1} + 2x_{2} - x_{3} + 2x_{4} = 4 \\\\\n",
    "2x_{1} - 3x_{2} + 2x_{3} + x_{4} = -8 \\\\\n",
    "\\end{cases}"
   ]
  },
  {
   "cell_type": "code",
   "execution_count": 29,
   "id": "714e373a-ddd1-403f-b5c4-1c8956761756",
   "metadata": {},
   "outputs": [],
   "source": [
    "# about numpy: https://numpy.org/doc/stable/user/absolute_beginners.html#can-you-reshape-an-array\n",
    "\n",
    "import numpy as np\n",
    "\n",
    "# solves SLAE Ax=b\n",
    "# A is square matrix; Det(A) must be != 0\n",
    "# b is free vector (vector of right part of SLAE)\n",
    "def solve_slae_cramer(A, b):\n",
    "    # check for incorrect input\n",
    "    if A.ndim != 2 :\n",
    "        print(\"A must be a matrix\")\n",
    "        return\n",
    "    if A.shape[0] != A.shape[1] :\n",
    "        print(\"A must be a square matrix\")\n",
    "        return\n",
    "    if b.ndim != 1 : \n",
    "        print(\"b must be a vector\")\n",
    "        return\n",
    "    if A.shape[0] != b.shape[0] :\n",
    "        print(\"A and b must have same number of rows\")\n",
    "        return\n",
    "\n",
    "    # solving SLAE using Cramer's rule\n",
    "    x = np.zeros(A.shape[1])\n",
    "    det_A = np.linalg.det(A)\n",
    "\n",
    "    for i in range(A.shape[1]):\n",
    "        temp = np.copy(A)\n",
    "        temp[0:,i] = b[0:]\n",
    "        x[i] = np.linalg.det(temp) / det_A\n",
    "\n",
    "    return x"
   ]
  },
  {
   "cell_type": "code",
   "execution_count": 28,
   "id": "f58bb041-3b3d-433c-aa33-536afadb144c",
   "metadata": {},
   "outputs": [
    {
     "name": "stdout",
     "output_type": "stream",
     "text": [
      "Solution using Cramer's method: x = [ 1.125   1.9375 -1.125  -2.1875]\n",
      "\n",
      "Check #1:\n",
      "Does Ax = b? : True\n",
      "\n",
      "Check #2:\n",
      "Does x = A^(-1) * b? : True\n",
      "\n",
      "Check #3:\n",
      "Is x a solution? (compare with library solution)? : True\n"
     ]
    }
   ],
   "source": [
    "A = np.array([[1, 2, 3, -2],\n",
    "              [1, -1, -2, -3], \n",
    "              [3, 2, -1, 2], \n",
    "              [2, -3, 2, 1]])\n",
    "\n",
    "b = np.array([6, 8, 4, -8])\n",
    "\n",
    "\n",
    "# solve\n",
    "x = solve_slae_cramer(A, b)\n",
    "print(\"Solution using Cramer's method: x = \" + str(x))\n",
    "\n",
    "\n",
    "# check by matrix multiplication\n",
    "b1 = A @ x\n",
    "print (\"\\nCheck #1:\")\n",
    "print(\"Does Ax = b? : \" + str(np.allclose(b, b1)))\n",
    "\n",
    "# check by inverse matrix (using fact that x = A^(-1) * b)\n",
    "x1 = np.linalg.inv(A) @ b\n",
    "print (\"\\nCheck #2:\")\n",
    "print(\"Does x = A^(-1) * b? : \" + str(np.allclose(x, x1)))\n",
    "\n",
    "# check by np.linalg.solve()\n",
    "x2 = np.linalg.solve(A,b)\n",
    "print (\"\\nCheck #3:\")\n",
    "print(\"Is x a solution? (compare with library solution)? : \" + str(np.allclose(x, x2)))"
   ]
  },
  {
   "cell_type": "markdown",
   "id": "52e02e89-196b-4b64-a5c2-f9f5f7456002",
   "metadata": {},
   "source": [
    "Всі перевірки пройдено!"
   ]
  },
  {
   "cell_type": "markdown",
   "id": "18bda98d-3afd-402b-a737-3a3aa03f19bd",
   "metadata": {},
   "source": [
    "### Завдання 3\n",
    "Обчислити значення матричного виразу:\n",
    "\\begin{equation}\n",
    "3A-(A-2B)B\n",
    "\\end{equation}\n",
    "\n",
    "1) з використанням універсальних функцій бібліотеки NumPy\n",
    "2) за допомогою ітеративних конструкцій (з використанням циклів, спискових включень тощо).\n",
    "3) для обох випадків підрахувати час виконання скрипту та зробити висновок.\n",
    "\n",
    "Порівняти всі рішення за допомогою функції `numpy.allclose()`."
   ]
  },
  {
   "cell_type": "markdown",
   "id": "25e6041f-d72d-4243-b645-29d7f63000d1",
   "metadata": {},
   "source": [
    "де \n",
    "\\begin{equation}\n",
    "A = \n",
    "\\begin{pmatrix}\n",
    "4 & 5 & -2 \\\\\n",
    "3 & -1 & 0 \\\\\n",
    "4 & 2 & 7\n",
    "\\end{pmatrix}\n",
    "\\end{equation}\n",
    "\n",
    "\\begin{equation}\n",
    "B = \n",
    "\\begin{pmatrix}\n",
    "2 & 1 & -1 \\\\\n",
    "0 & 1 & 3 \\\\\n",
    "5 & 7 & 3\n",
    "\\end{pmatrix}\n",
    "\\end{equation}"
   ]
  },
  {
   "cell_type": "code",
   "execution_count": 1,
   "id": "e17c3ade-51ca-45ae-8e62-26170bd23823",
   "metadata": {},
   "outputs": [],
   "source": [
    "import numpy as np\n",
    "\n",
    "# matrix is NumPy two-dimensional array\n",
    "# returns matrix cpy multiplied by number\n",
    "def multiply_by_number(matrix, number) :\n",
    "    if matrix.ndim != 2 :\n",
    "        print(\"A must be a matrix\")\n",
    "        return\n",
    "\n",
    "    matrix_copy = np.copy(matrix)\n",
    "    for i in range(matrix.shape[0]):\n",
    "        for j in range(matrix.shape[1]):\n",
    "            matrix_copy[i,j] = matrix[i,j] * number\n",
    "\n",
    "    return matrix_copy\n",
    "\n",
    "# returns new matrix that is result of A-B\n",
    "def subtract_matrices(A, B):\n",
    "    if A.ndim != 2 :\n",
    "        print(\"A must be a matrix\")\n",
    "        return\n",
    "    if B.ndim != 2 :\n",
    "        print(\"B must be a matrix\")\n",
    "        return\n",
    "    if (A.shape[0] != B.shape[0]) or (A.shape[1] != B.shape[1]):\n",
    "        print(\"A and B must have the same shape\")\n",
    "        return\n",
    "\n",
    "    n = A.shape[0]\n",
    "    m = A.shape[1]\n",
    "\n",
    "    result = np.zeros((n, m), dtype=A.dtype)\n",
    "\n",
    "    for i in range(n) :\n",
    "        for j in range(m) :\n",
    "            result[i,j] = A[i,j] - B[i,j]\n",
    "\n",
    "    return result\n",
    "\n",
    "def multiply_matrices(A, B):\n",
    "    if A.ndim != 2 :\n",
    "        print(\"A must be a matrix\")\n",
    "        return\n",
    "    if B.ndim != 2 :\n",
    "        print(\"B must be a matrix\")\n",
    "        return\n",
    "    if A.shape[1] != B.shape[0]:\n",
    "        print(\"A.cols must be equal to B.rows\")\n",
    "        return\n",
    "\n",
    "    n = A.shape[0]\n",
    "    m = B.shape[1]\n",
    "    p = A.shape[1]\n",
    "    \n",
    "    result = np.zeros((n, m), dtype=A.dtype)\n",
    "\n",
    "    for i in range(n):\n",
    "        for j in range(m):\n",
    "            sum = 0\n",
    "            for k in range(p):\n",
    "                sum += A[i,k] * B[k,j]\n",
    "            result[i,j] = sum\n",
    "\n",
    "    return result"
   ]
  },
  {
   "cell_type": "code",
   "execution_count": 2,
   "id": "807b9f93-a160-4a12-9b9c-b5c7c2004588",
   "metadata": {},
   "outputs": [],
   "source": [
    "def task_3_impl_1(A, B):\n",
    "    a1 = multiply_by_number(A, 3)\n",
    "    a2 = multiply_by_number(B, 2)\n",
    "    a3 = subtract_matrices(A, a2)\n",
    "    a4 = multiply_matrices(a3, B)\n",
    "    a5 = subtract_matrices(a1, a4)\n",
    "    \n",
    "    return a5\n",
    "\n",
    "\n",
    "def task_3_impl_2(A, B):\n",
    "    return 3*A - (A - 2*B)@B"
   ]
  },
  {
   "cell_type": "code",
   "execution_count": 3,
   "id": "7000dd20-0f7c-4ccd-b823-0c7c84ef6963",
   "metadata": {},
   "outputs": [],
   "source": [
    "import time\n",
    "\n",
    "def task_3(A, B):\n",
    "    # using NumPy funtions\n",
    "    t_start = time.time()\n",
    "    result_1 = task_3_impl_1(A,B)\n",
    "    t_end = time.time()\n",
    "    print(\"Using standard functions:\")\n",
    "    print(result_1)\n",
    "    print(\"Time: \" + str(t_end - t_start) + \" s\")\n",
    "\n",
    "    # using standard functions\n",
    "    t_start = time.time()\n",
    "    result_2 = task_3_impl_2(A,B)\n",
    "    t_end = time.time()\n",
    "    print(\"\\nUsing NumPy functions:\")\n",
    "    print(result_2)\n",
    "    print(\"Time: \" + str(t_end - t_start) + \" s\")\n",
    "\n",
    "    print(\"\\nAre the results the same?: \" + str(np.allclose(result_1, result_2)))"
   ]
  },
  {
   "cell_type": "markdown",
   "id": "46cb953b-ca18-454d-a809-6a996c9c9eca",
   "metadata": {},
   "source": [
    "Виконання для матриць з умови:"
   ]
  },
  {
   "cell_type": "code",
   "execution_count": 4,
   "id": "d9a5e222-8249-4464-b5d2-be8a0ae73b38",
   "metadata": {},
   "outputs": [
    {
     "name": "stdout",
     "output_type": "stream",
     "text": [
      "Using standard functions:\n",
      "[[ 12  12 -15]\n",
      " [ 33  39  30]\n",
      " [ 19  17  48]]\n",
      "Time: 0.0 s\n",
      "\n",
      "Using NumPy functions:\n",
      "[[ 12  12 -15]\n",
      " [ 33  39  30]\n",
      " [ 19  17  48]]\n",
      "Time: 0.0 s\n",
      "\n",
      "Are the results the same?: True\n"
     ]
    }
   ],
   "source": [
    "A = np.array([[4, 5, -2],\n",
    "              [3, -1, 0], \n",
    "              [4, 2, 7]])\n",
    "\n",
    "B = np.array([[2, 1, -1],\n",
    "          [0, 1, 3], \n",
    "          [5, 7, 3]])\n",
    "\n",
    "\n",
    "task_3(A, B)"
   ]
  },
  {
   "cell_type": "markdown",
   "id": "29dacf67-29f1-4866-8e3a-df3bdfc42551",
   "metadata": {},
   "source": [
    "Виконання для того, щоб отримати порівнюваний час двох способів:  "
   ]
  },
  {
   "cell_type": "code",
   "execution_count": 7,
   "id": "f8a2614e-4bab-4538-a799-c15ad969f9f6",
   "metadata": {},
   "outputs": [
    {
     "name": "stdout",
     "output_type": "stream",
     "text": [
      "Using standard functions:\n",
      "[[103 103 103 ... 103 103 103]\n",
      " [103 103 103 ... 103 103 103]\n",
      " [103 103 103 ... 103 103 103]\n",
      " ...\n",
      " [103 103 103 ... 103 103 103]\n",
      " [103 103 103 ... 103 103 103]\n",
      " [103 103 103 ... 103 103 103]]\n",
      "Time: 0.4679887294769287 s\n",
      "\n",
      "Using NumPy functions:\n",
      "[[103 103 103 ... 103 103 103]\n",
      " [103 103 103 ... 103 103 103]\n",
      " [103 103 103 ... 103 103 103]\n",
      " ...\n",
      " [103 103 103 ... 103 103 103]\n",
      " [103 103 103 ... 103 103 103]\n",
      " [103 103 103 ... 103 103 103]]\n",
      "Time: 0.0009989738464355469 s\n",
      "\n",
      "Are the results the same?: True\n"
     ]
    }
   ],
   "source": [
    "n = 100\n",
    "A = np.ones((n, n), dtype=int)\n",
    "B = np.ones((n, n), dtype=int)\n",
    "\n",
    "task_3(A,B)"
   ]
  },
  {
   "cell_type": "markdown",
   "id": "8d43748a-2378-41b4-9d7b-588b795d347b",
   "metadata": {},
   "source": [
    "**Висновок:** код, що використовує універсальні функції бібліотеки NumPy, працює швидше, ніж код, що використовує ітеративні конструкції. Окрім цього, результати обчислень за домогою цих двох способів однакові."
   ]
  }
 ],
 "metadata": {
  "kernelspec": {
   "display_name": "Python 3 (ipykernel)",
   "language": "python",
   "name": "python3"
  },
  "language_info": {
   "codemirror_mode": {
    "name": "ipython",
    "version": 3
   },
   "file_extension": ".py",
   "mimetype": "text/x-python",
   "name": "python",
   "nbconvert_exporter": "python",
   "pygments_lexer": "ipython3",
   "version": "3.11.5"
  }
 },
 "nbformat": 4,
 "nbformat_minor": 5
}
